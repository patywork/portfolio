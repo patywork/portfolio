{
 "cells": [
  {
   "cell_type": "markdown",
   "id": "ef644ab1",
   "metadata": {},
   "source": [
    "## Análise Idade Alunos Matriculados ##\n",
    "\n",
    "**Objetivo:** Compreender a idade média dos alunos que estao matriculados no CRM da escola\n",
    "\n",
    "**Período dos Contratos**: 2014 a 2023\n",
    "\n",
    "**Tamanho da Amostra** = 15.804"
   ]
  },
  {
   "cell_type": "code",
   "execution_count": 1,
   "id": "4710eedd",
   "metadata": {},
   "outputs": [],
   "source": [
    "import numpy as np\n",
    "import pandas as pd\n",
    "import seaborn as sns\n",
    "import scipy.stats as stats\n",
    "import matplotlib.pyplot as plt\n",
    "\n",
    "import warnings\n",
    "warnings.filterwarnings('ignore')"
   ]
  },
  {
   "cell_type": "code",
   "execution_count": 2,
   "id": "e9721568",
   "metadata": {},
   "outputs": [],
   "source": [
    "# define o tamanho das figuras \n",
    "plt.rcParams[\"figure.figsize\"] = (15,5) "
   ]
  },
  {
   "cell_type": "code",
   "execution_count": 3,
   "id": "7499f564",
   "metadata": {},
   "outputs": [],
   "source": [
    "df = pd.read_csv('data_age.csv')"
   ]
  },
  {
   "cell_type": "code",
   "execution_count": 4,
   "id": "eb9887fc",
   "metadata": {},
   "outputs": [
    {
     "data": {
      "text/html": [
       "<div>\n",
       "<style scoped>\n",
       "    .dataframe tbody tr th:only-of-type {\n",
       "        vertical-align: middle;\n",
       "    }\n",
       "\n",
       "    .dataframe tbody tr th {\n",
       "        vertical-align: top;\n",
       "    }\n",
       "\n",
       "    .dataframe thead th {\n",
       "        text-align: right;\n",
       "    }\n",
       "</style>\n",
       "<table border=\"1\" class=\"dataframe\">\n",
       "  <thead>\n",
       "    <tr style=\"text-align: right;\">\n",
       "      <th></th>\n",
       "      <th>student_id</th>\n",
       "      <th>birthdate</th>\n",
       "      <th>course_type</th>\n",
       "    </tr>\n",
       "  </thead>\n",
       "  <tbody>\n",
       "    <tr>\n",
       "      <th>0</th>\n",
       "      <td>0</td>\n",
       "      <td>1994-10-15 00:00:00.000</td>\n",
       "      <td>a</td>\n",
       "    </tr>\n",
       "    <tr>\n",
       "      <th>1</th>\n",
       "      <td>1</td>\n",
       "      <td>1990-08-22 00:00:00.000</td>\n",
       "      <td>a</td>\n",
       "    </tr>\n",
       "    <tr>\n",
       "      <th>2</th>\n",
       "      <td>2</td>\n",
       "      <td>1997-10-07 00:00:00.000</td>\n",
       "      <td>a</td>\n",
       "    </tr>\n",
       "    <tr>\n",
       "      <th>3</th>\n",
       "      <td>3</td>\n",
       "      <td>1978-08-22 00:00:00.000</td>\n",
       "      <td>a</td>\n",
       "    </tr>\n",
       "    <tr>\n",
       "      <th>4</th>\n",
       "      <td>4</td>\n",
       "      <td>1981-08-25 00:00:00.000</td>\n",
       "      <td>a</td>\n",
       "    </tr>\n",
       "  </tbody>\n",
       "</table>\n",
       "</div>"
      ],
      "text/plain": [
       "   student_id                birthdate course_type\n",
       "0           0  1994-10-15 00:00:00.000           a\n",
       "1           1  1990-08-22 00:00:00.000           a\n",
       "2           2  1997-10-07 00:00:00.000           a\n",
       "3           3  1978-08-22 00:00:00.000           a\n",
       "4           4  1981-08-25 00:00:00.000           a"
      ]
     },
     "execution_count": 4,
     "metadata": {},
     "output_type": "execute_result"
    }
   ],
   "source": [
    "df.head()"
   ]
  },
  {
   "cell_type": "code",
   "execution_count": 5,
   "id": "e3542a1d",
   "metadata": {},
   "outputs": [
    {
     "data": {
      "text/plain": [
       "15804"
      ]
     },
     "execution_count": 5,
     "metadata": {},
     "output_type": "execute_result"
    }
   ],
   "source": [
    "#tamanho da amostra\n",
    "df.shape[0]"
   ]
  },
  {
   "cell_type": "code",
   "execution_count": 6,
   "id": "62b05324",
   "metadata": {},
   "outputs": [
    {
     "name": "stdout",
     "output_type": "stream",
     "text": [
      "<class 'pandas.core.frame.DataFrame'>\n",
      "RangeIndex: 15804 entries, 0 to 15803\n",
      "Data columns (total 3 columns):\n",
      " #   Column       Non-Null Count  Dtype \n",
      "---  ------       --------------  ----- \n",
      " 0   student_id   15804 non-null  int64 \n",
      " 1   birthdate    15804 non-null  object\n",
      " 2   course_type  15804 non-null  object\n",
      "dtypes: int64(1), object(2)\n",
      "memory usage: 370.5+ KB\n"
     ]
    }
   ],
   "source": [
    "df.info()"
   ]
  },
  {
   "cell_type": "code",
   "execution_count": 7,
   "id": "d08f1540",
   "metadata": {},
   "outputs": [],
   "source": [
    "#trasformando coluna data nascimento em datetime\n",
    "df['birthdate']=pd.to_datetime(df['birthdate'])"
   ]
  },
  {
   "cell_type": "code",
   "execution_count": 8,
   "id": "c96467aa",
   "metadata": {},
   "outputs": [],
   "source": [
    "now = pd.Timestamp('now')\n",
    "df['age']=(now - df['birthdate']).astype('<m8[Y]').astype(int)"
   ]
  },
  {
   "cell_type": "code",
   "execution_count": 9,
   "id": "8d338400",
   "metadata": {},
   "outputs": [
    {
     "data": {
      "text/plain": [
       "(0, 123)"
      ]
     },
     "execution_count": 9,
     "metadata": {},
     "output_type": "execute_result"
    }
   ],
   "source": [
    "#range por idade\n",
    "df['age'].min(), df['age'].max()"
   ]
  },
  {
   "cell_type": "code",
   "execution_count": 10,
   "id": "97504074",
   "metadata": {},
   "outputs": [
    {
     "data": {
      "image/png": "[encoded data removed]",
      "text/plain": [
       "<Figure size 1080x360 with 1 Axes>"
      ]
     },
     "metadata": {
      "needs_background": "light"
     },
     "output_type": "display_data"
    }
   ],
   "source": [
    "#distribuição por faixa e tária \n",
    "sns.histplot(data=df,x='age', bins=[0,10,15,20,25,30,35,40,50,60,70,80,90,100,110,120,130])\n",
    "#plt.title('Distribuição Idade Amostra', fontfamily='Arial', fontsize=20)\n",
    "plt.ylabel('qtde alunos',fontsize=16,fontname='Arial')\n",
    "plt.xlabel('Idade',fontsize=16,fontname='Arial')\n",
    "sns.despine();"
   ]
  },
  {
   "cell_type": "markdown",
   "id": "66432a02",
   "metadata": {},
   "source": [
    "Observamos que os dados possuem recorrencia até +/- 80 anos - iremos observar a descrição da distribuição retirando os que têm idade menor que 10 anos e o que são maior do que 80 anos"
   ]
  },
  {
   "cell_type": "code",
   "execution_count": null,
   "id": "b7e003ef",
   "metadata": {},
   "outputs": [],
   "source": []
  },
  {
   "cell_type": "code",
   "execution_count": 11,
   "id": "d2ec5080",
   "metadata": {},
   "outputs": [
    {
     "data": {
      "text/plain": [
       "count    15667.0\n",
       "mean        27.0\n",
       "std         11.0\n",
       "min         10.0\n",
       "25%         19.0\n",
       "50%         25.0\n",
       "75%         33.0\n",
       "max         80.0\n",
       "Name: age, dtype: float64"
      ]
     },
     "execution_count": 11,
     "metadata": {},
     "output_type": "execute_result"
    }
   ],
   "source": [
    "#IDADE GERAL\n",
    "np.round(df.loc[(df['birthdate']>'1942-12-31')&\n",
    "     (df['age']>=10),'age'].describe())"
   ]
  },
  {
   "cell_type": "markdown",
   "id": "353703f7",
   "metadata": {},
   "source": [
    "Observamos que a média de idade para esta amostra é de 27 anos, vamos criar um intervalo de confiança para esta medida - Vale salientar porém que  50% dos nossos alunos têm até 25 anos.\n",
    "\n",
    "Realizaremos um teste de hipótese para saber qual a média que devemos adotar, 25 ou 27. Para isso nossa hipótese nula será que a média de idade dos alunos é de 27 anos. "
   ]
  },
  {
   "cell_type": "code",
   "execution_count": 12,
   "id": "1e6c16ae",
   "metadata": {},
   "outputs": [
    {
     "name": "stdout",
     "output_type": "stream",
     "text": [
      "-0.8422954245213755 0.19981767915306564\n"
     ]
    }
   ],
   "source": [
    "t_stat, p_value = stats.ttest_1samp(df['age'], popmean=27)\n",
    "#como estamos performando um teste unilateral, vamos dividir o p_value por dois\n",
    "p_value=p_value/2\n",
    "print(t_stat, p_value)\n"
   ]
  },
  {
   "cell_type": "markdown",
   "id": "f1a079e9",
   "metadata": {},
   "source": [
    "Com 95% de confiança, não há indícios para que rejeitemos a hipótese nula"
   ]
  },
  {
   "cell_type": "markdown",
   "id": "5fc8c140",
   "metadata": {},
   "source": [
    "## Intervalo de Confiança ##"
   ]
  },
  {
   "cell_type": "markdown",
   "id": "1b1e931d",
   "metadata": {},
   "source": [
    "as idades acima não fazem sentido para o negócio, por isso limparemos as bases para olharmos a variável idade"
   ]
  },
  {
   "cell_type": "code",
   "execution_count": 13,
   "id": "15b056b2",
   "metadata": {},
   "outputs": [],
   "source": [
    "#número de observações\n",
    "n = df.shape[0]\n",
    "std= df['age'].std()\n",
    "significancia=0.05\n",
    "confianca=0.95\n",
    "z=1.96\n",
    "mean=df['age'].mean()"
   ]
  },
  {
   "cell_type": "markdown",
   "id": "b53944c9",
   "metadata": {},
   "source": [
    "### <font color=green>Erro inferencial</font> ###\n",
    "## $$e = z \\frac{\\sigma}{\\sqrt{n}}$$"
   ]
  },
  {
   "cell_type": "code",
   "execution_count": 14,
   "id": "97474518",
   "metadata": {},
   "outputs": [
    {
     "data": {
      "text/plain": [
       "0.17521511587380922"
      ]
     },
     "execution_count": 14,
     "metadata": {},
     "output_type": "execute_result"
    }
   ],
   "source": [
    "e=z*(std/(np.sqrt(n)))\n",
    "e"
   ]
  },
  {
   "cell_type": "code",
   "execution_count": 15,
   "id": "d03cfad7",
   "metadata": {},
   "outputs": [
    {
     "data": {
      "text/plain": [
       "(26.749487491061146, 27.09991772280876)"
      ]
     },
     "execution_count": 15,
     "metadata": {},
     "output_type": "execute_result"
    }
   ],
   "source": [
    "mean - e, mean+e"
   ]
  },
  {
   "cell_type": "code",
   "execution_count": 16,
   "id": "58959fef",
   "metadata": {},
   "outputs": [
    {
     "data": {
      "text/plain": [
       "(26.581287290275274, 27.268117923594634)"
      ]
     },
     "execution_count": 16,
     "metadata": {},
     "output_type": "execute_result"
    }
   ],
   "source": [
    "#Calculando intervalo de confiança\n",
    "stats.norm.interval(alpha=0.95, loc=mean,scale=e )"
   ]
  },
  {
   "cell_type": "markdown",
   "id": "2924ba85",
   "metadata": {},
   "source": [
    "A média varia de 26 a 27 anos para os alunos desta escola.\n",
    "\n",
    "Nossa hipótese é que a média de idade entre uma experiência e outra seja diferente, para validarmos realizamos um teste estatistico\n",
    "\n",
    "### Distribuição da Idade Conforme Experiência ### "
   ]
  },
  {
   "cell_type": "code",
   "execution_count": 17,
   "id": "d7a77c78",
   "metadata": {},
   "outputs": [],
   "source": [
    "age_conn=pd.DataFrame(df.loc[(df['birthdate']>'1942-12-31')&\n",
    "    (df['age']>=10)&\n",
    "    (df['course_type']=='b'),'age'])\n",
    "age_int=pd.DataFrame(df.loc[(df['birthdate']>'1942-12-31')&\n",
    "    (df['age']>=10)&\n",
    "    (df['course_type']=='b'),'age'])"
   ]
  },
  {
   "cell_type": "code",
   "execution_count": 18,
   "id": "c9041850",
   "metadata": {},
   "outputs": [
    {
     "data": {
      "text/plain": [
       "a    0.779486\n",
       "b    0.220514\n",
       "Name: course_type, dtype: float64"
      ]
     },
     "execution_count": 18,
     "metadata": {},
     "output_type": "execute_result"
    }
   ],
   "source": [
    "df['course_type'].value_counts(normalize=True)"
   ]
  },
  {
   "cell_type": "code",
   "execution_count": 19,
   "id": "ded7b491",
   "metadata": {
    "scrolled": true
   },
   "outputs": [
    {
     "data": {
      "image/png": "[encoded data removed]",
      "text/plain": [
       "<Figure size 1080x360 with 2 Axes>"
      ]
     },
     "metadata": {
      "needs_background": "light"
     },
     "output_type": "display_data"
    }
   ],
   "source": [
    "age=(range(10,81))\n",
    "f, axes = plt.subplots(1,2)\n",
    "sns.boxplot(data=age_conn,y='age', ax=axes[0],color='#FF5252')\n",
    "axes[0].set_xlabel('A', fontsize=16,fontfamily='Arial')\n",
    "axes[0].set_ylabel('', fontsize=14,fontfamily='Arial')\n",
    "axes[0].set_yticklabels([0,10,20,30,40,50,60,70,80], fontsize=14, fontfamily='Arial')\n",
    "sns.boxplot(data=age_int,y='age', ax=axes[1], color='#FF1744')\n",
    "axes[1].set( yticks=[],ylabel=\" \")\n",
    "axes[1].set_xlabel('B', fontsize=16, fontfamily='Arial')\n",
    "\n",
    "for axes in axes.flat:\n",
    "    if axes.is_first_col():\n",
    "        if axes.is_last_row():\n",
    "            sns.despine(bottom=False, left=False, ax=axes)\n",
    "        else:\n",
    "            sns.despine(bottom=True, left=False, ax=axes)\n",
    "    elif axes.is_last_row():\n",
    "        sns.despine(bottom=False, left=True, ax=axes)\n",
    "    else:\n",
    "        sns.despine(bottom=True, left=True, ax=axes)\n",
    "#f.suptitle('Distribuição Idade WizardOn por Experiência', fontname='Arial',fontsize='16')\n",
    "#sns.despine()\n",
    "f.tight_layout();"
   ]
  },
  {
   "cell_type": "code",
   "execution_count": 20,
   "id": "f6015726",
   "metadata": {},
   "outputs": [
    {
     "data": {
      "text/plain": [
       "False"
      ]
     },
     "execution_count": 20,
     "metadata": {},
     "output_type": "execute_result"
    }
   ],
   "source": [
    "#checking if the variance is the same for both sample\n",
    "df.loc[(df['birthdate']>'1942-12-31')&\n",
    "    (df['age']>=10)&\n",
    "    (df['course_type']=='a'),'age'].var() == df.loc[(df['birthdate']>'1942-12-31')&\n",
    "    (df['age']>=10)&\n",
    "    (df['course_type']=='b'),'age'].var()"
   ]
  },
  {
   "cell_type": "code",
   "execution_count": 21,
   "id": "2c1a03ef",
   "metadata": {},
   "outputs": [
    {
     "name": "stdout",
     "output_type": "stream",
     "text": [
      "stat: -10.331682983081013 pvalue: 6.092304937304288e-25\n"
     ]
    }
   ],
   "source": [
    "\"\"\"olhamos aqui se temos variância igual, caso sim não alteramos parâmetro equal_var, caso não alteramos para performar\n",
    "o WELCH’S T-TEST \n",
    "\"\"\" \n",
    "stat, p = stats.ttest_ind(list(df.loc[(df['birthdate']>'1942-12-31')&\n",
    "     (df['age']>=10)&\n",
    "     (df['course_type']=='a'),'age']),\n",
    "     list(df.loc[(df['birthdate']>'1942-12-31')&\n",
    "     (df['age']>=10)&\n",
    "     (df['course_type']=='b'),'age']))\n",
    "\n",
    "print('stat:',stat, 'pvalue:', p)"
   ]
  },
  {
   "cell_type": "markdown",
   "id": "62ead762",
   "metadata": {},
   "source": [
    "Não há indícios para que rejeitemos a hipótese nula (H0) (média de idade dos alunos a = b) "
   ]
  },
  {
   "cell_type": "markdown",
   "id": "be788b15",
   "metadata": {},
   "source": [
    "## Visualização por Faixa Etária ##"
   ]
  },
  {
   "cell_type": "code",
   "execution_count": 22,
   "id": "b8bf1895",
   "metadata": {},
   "outputs": [],
   "source": [
    "ate15=df.loc[df['age']<15,'age'].count()\n",
    "de15a20=df.loc[(df['age']>=15)&(df['age']<20),'age'].count()\n",
    "de20a25=df.loc[(df['age']>=20)&(df['age']<25),'age'].count()\n",
    "de25a30=df.loc[(df['age']>=25)&(df['age']<30),'age'].count()\n",
    "de30a35=df.loc[(df['age']>=30)&(df['age']<35),'age'].count()\n",
    "de30a35=df.loc[(df['age']>=30)&(df['age']<35),'age'].count()\n",
    "de35a45=df.loc[(df['age']>=35)&(df['age']<45),'age'].count()\n",
    "de45a55=df.loc[(df['age']>=45)&(df['age']<55),'age'].count()\n",
    "de55a65=df.loc[(df['age']>=55)&(df['age']<65),'age'].count()\n",
    "de65a75=df.loc[(df['age']>=65)&(df['age']<75),'age'].count()\n",
    "de75a80=df.loc[(df['age']>=75)&(df['age']<80),'age'].count()\n",
    "df_faixas=pd.DataFrame({'faixas':['até 15','15 a 20','20 a 25','25 a 30','30 a 35',\n",
    "                                  '35 a 45', '45 a 55', '55 a 65', '65 a 75',\n",
    "                                 '75 a 80'],\n",
    "                  'valores':[ate15,de15a20,de20a25,de25a30,de30a35,de35a45, de45a55,\n",
    "                            de55a65,de65a75,de75a80]})"
   ]
  },
  {
   "cell_type": "code",
   "execution_count": 23,
   "id": "b1c4f51a",
   "metadata": {},
   "outputs": [
    {
     "data": {
      "image/png": "[encoded data removed]",
      "text/plain": [
       "<Figure size 1080x360 with 1 Axes>"
      ]
     },
     "metadata": {
      "needs_background": "light"
     },
     "output_type": "display_data"
    }
   ],
   "source": [
    "#faixa etária \n",
    "plt.rcParams['ytick.major.pad']='10'\n",
    "sns.color_palette(\"Paired\")\n",
    "fig=sns.barplot(data=df_faixas, x='valores',y='faixas', palette='Blues')\n",
    "plt.xlabel(\" \")\n",
    "plt.ylabel('', fontsize=16, fontfamily='Arial')\n",
    "plt.xticks(ticks=[])\n",
    "plt.yticks(fontname='Arial',fontsize=14)\n",
    "plt.bar_label(fig.containers[0], fontsize=15, fontfamily='Arial')\n",
    "#plt.title('Total de Matrículas por faixa etária WizardON', fontsize=14, fontname='Arial', pad=5)\n",
    "sns.despine(left=True);"
   ]
  },
  {
   "cell_type": "code",
   "execution_count": null,
   "id": "e8ef4d23",
   "metadata": {},
   "outputs": [],
   "source": []
  }
 ],
 "metadata": {
  "kernelspec": {
   "display_name": "Python 3 (ipykernel)",
   "language": "python",
   "name": "python3"
  },
  "language_info": {
   "codemirror_mode": {
    "name": "ipython",
    "version": 3
   },
   "file_extension": ".py",
   "mimetype": "text/x-python",
   "name": "python",
   "nbconvert_exporter": "python",
   "pygments_lexer": "ipython3",
   "version": "3.9.7"
  }
 },
 "nbformat": 4,
 "nbformat_minor": 5
}
