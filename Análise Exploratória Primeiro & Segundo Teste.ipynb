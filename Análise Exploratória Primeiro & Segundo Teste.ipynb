{
 "cells": [
  {
   "cell_type": "markdown",
   "id": "87a4ea44",
   "metadata": {},
   "source": [
    "## Análise Exploratória Primeiro e Segundo Teste ## \n",
    "\n",
    "**Contexto:** As escolas adotam uma forma de avaliar o conhecimento dos alunos realizando um teste antes do ano letivo e um teste final após a realização de todo o percuso do curso. Os alunos performam este teste em um aplicativo disponibilizado pelas escolas. \n",
    "\n",
    "**Objetivo:** Compreender as variáveis disponíveis e suas distribuições "
   ]
  },
  {
   "cell_type": "code",
   "execution_count": 1,
   "id": "80b344af",
   "metadata": {},
   "outputs": [],
   "source": [
    "import numpy as np\n",
    "import pandas as pd\n",
    "import seaborn as sns\n",
    "import matplotlib.pyplot as plt\n",
    "\n",
    "from scipy import stats"
   ]
  },
  {
   "cell_type": "code",
   "execution_count": 2,
   "id": "8cb4caa9",
   "metadata": {},
   "outputs": [],
   "source": [
    "# plot size\n",
    "plt.rcParams[\"figure.figsize\"] = (15,5) "
   ]
  },
  {
   "cell_type": "code",
   "execution_count": 3,
   "id": "3211459a",
   "metadata": {},
   "outputs": [],
   "source": [
    "#upload data\n",
    "df = pd.read_csv('data_test.csv')"
   ]
  },
  {
   "cell_type": "code",
   "execution_count": 4,
   "id": "d83bafea",
   "metadata": {},
   "outputs": [
    {
     "name": "stdout",
     "output_type": "stream",
     "text": [
      "<class 'pandas.core.frame.DataFrame'>\n",
      "RangeIndex: 64170 entries, 0 to 64169\n",
      "Data columns (total 10 columns):\n",
      " #   Column          Non-Null Count  Dtype  \n",
      "---  ------          --------------  -----  \n",
      " 0   student_id      64170 non-null  int64  \n",
      " 1   place           64170 non-null  object \n",
      " 2   curso_id        64170 non-null  int64  \n",
      " 3   first_test      64170 non-null  object \n",
      " 4   question_id     64170 non-null  int64  \n",
      " 5   correct_first   64170 non-null  int64  \n",
      " 6   second_test     64170 non-null  object \n",
      " 7   correct_second  64170 non-null  float64\n",
      " 8   date_first      64170 non-null  object \n",
      " 9   date_second     64170 non-null  object \n",
      "dtypes: float64(1), int64(4), object(5)\n",
      "memory usage: 4.9+ MB\n"
     ]
    }
   ],
   "source": [
    "#checking data\n",
    "df.info()"
   ]
  },
  {
   "cell_type": "markdown",
   "id": "9839efa5",
   "metadata": {},
   "source": [
    "1) **student_id** - identificador único, dado categórico <br>\n",
    "2) **place** - unidade em que o aluno está matriculado, dado categórico<br>\n",
    "3) **curso_id** - curso em que o aluno está matriculado, dado categórico<br>\n",
    "4) **first_test** - classificação se o aluno realizou o primeiro teste ou não, dado categórico<br>\n",
    "5) **question_id** - identificador único da questão que o aluno respondeu, dado categórico<br>\n",
    "6) **correct_first** - resposta correta ou não dada pelo aluno, dado categórico<br>\n",
    "7) **second_test** - classificação se o aluno realizou o segundo teste ou não, dado categórico<br>\n",
    "8) **correct_second** - resposta correta ou não dada pelo aluno, dado categórico<br>\n",
    "9) **date_first** - data em que foi realizado o primeiro teste<br>\n",
    "10) **date_second** - data em que foi realizado o segundo teste<br>"
   ]
  },
  {
   "cell_type": "code",
   "execution_count": 5,
   "id": "4b3e4be8",
   "metadata": {},
   "outputs": [
    {
     "data": {
      "text/plain": [
       "2458"
      ]
     },
     "execution_count": 5,
     "metadata": {},
     "output_type": "execute_result"
    }
   ],
   "source": [
    "#Total students\n",
    "df['student_id'].nunique()"
   ]
  },
  {
   "cell_type": "code",
   "execution_count": 6,
   "id": "d9452e80",
   "metadata": {},
   "outputs": [
    {
     "data": {
      "text/plain": [
       "677"
      ]
     },
     "execution_count": 6,
     "metadata": {},
     "output_type": "execute_result"
    }
   ],
   "source": [
    "#Total schools\n",
    "df['place'].nunique()"
   ]
  },
  {
   "cell_type": "code",
   "execution_count": 7,
   "id": "103087f7",
   "metadata": {},
   "outputs": [
    {
     "data": {
      "text/plain": [
       "('2021-01-03', '2022-11-29')"
      ]
     },
     "execution_count": 7,
     "metadata": {},
     "output_type": "execute_result"
    }
   ],
   "source": [
    "#period students did first test\n",
    "df['date_first'].min(), df['date_first'].max()"
   ]
  },
  {
   "cell_type": "code",
   "execution_count": 8,
   "id": "7455b906",
   "metadata": {},
   "outputs": [
    {
     "data": {
      "text/plain": [
       "('2021-01-12', '2022-11-30')"
      ]
     },
     "execution_count": 8,
     "metadata": {},
     "output_type": "execute_result"
    }
   ],
   "source": [
    "#period students did second test\n",
    "df['date_second'].min(), df['date_second'].max()"
   ]
  },
  {
   "cell_type": "markdown",
   "id": "9c0eb43e",
   "metadata": {},
   "source": [
    "### Observando Total de Alunos por Escola que realizaram os dois testes ###"
   ]
  },
  {
   "cell_type": "code",
   "execution_count": 9,
   "id": "4c91fe55",
   "metadata": {},
   "outputs": [],
   "source": [
    "df_totalstudents = pd.DataFrame(df.groupby(df['place'])['student_id'].nunique()).reset_index().rename(\n",
    "    columns={'student_id':'total_students'}).sort_values(by='total_students', ascending=False)"
   ]
  },
  {
   "cell_type": "code",
   "execution_count": 10,
   "id": "60ea8d8a",
   "metadata": {},
   "outputs": [
    {
     "data": {
      "image/png": "[encoded data removed]",
      "text/plain": [
       "<Figure size 1080x360 with 1 Axes>"
      ]
     },
     "metadata": {
      "needs_background": "light"
     },
     "output_type": "display_data"
    }
   ],
   "source": [
    "sns.boxplot(data=df_totalstudents, x='total_students')\n",
    "sns.despine(left=True);"
   ]
  },
  {
   "cell_type": "code",
   "execution_count": 11,
   "id": "f54aab48",
   "metadata": {},
   "outputs": [
    {
     "data": {
      "text/plain": [
       "count    677.000000\n",
       "mean       3.633678\n",
       "std        4.191982\n",
       "min        1.000000\n",
       "25%        1.000000\n",
       "50%        2.000000\n",
       "75%        4.000000\n",
       "max       46.000000\n",
       "Name: total_students, dtype: float64"
      ]
     },
     "execution_count": 11,
     "metadata": {},
     "output_type": "execute_result"
    }
   ],
   "source": [
    "df_totalstudents['total_students'].describe()"
   ]
  },
  {
   "cell_type": "markdown",
   "id": "583e99d2",
   "metadata": {},
   "source": [
    "Notamos que 50% das escolas têm até 2 alunos que realizaram os testes"
   ]
  },
  {
   "cell_type": "code",
   "execution_count": 12,
   "id": "74ba6ed4",
   "metadata": {},
   "outputs": [
    {
     "data": {
      "text/plain": [
       "0.9571639586410635"
      ]
     },
     "execution_count": 12,
     "metadata": {},
     "output_type": "execute_result"
    }
   ],
   "source": [
    "df_totalstudents['total_students'].value_counts(normalize=True)[0:10].sum()"
   ]
  },
  {
   "cell_type": "code",
   "execution_count": 13,
   "id": "549f5c00",
   "metadata": {},
   "outputs": [
    {
     "data": {
      "text/plain": [
       "1     0.317578\n",
       "2     0.202363\n",
       "3     0.128508\n",
       "4     0.106352\n",
       "5     0.070901\n",
       "6     0.048744\n",
       "9     0.028065\n",
       "8     0.023634\n",
       "7     0.019202\n",
       "12    0.011817\n",
       "11    0.010340\n",
       "10    0.007386\n",
       "14    0.004431\n",
       "13    0.002954\n",
       "15    0.002954\n",
       "16    0.002954\n",
       "23    0.002954\n",
       "45    0.001477\n",
       "17    0.001477\n",
       "20    0.001477\n",
       "31    0.001477\n",
       "36    0.001477\n",
       "46    0.001477\n",
       "Name: total_students, dtype: float64"
      ]
     },
     "execution_count": 13,
     "metadata": {},
     "output_type": "execute_result"
    }
   ],
   "source": [
    "df_totalstudents['total_students'].value_counts(normalize=True)"
   ]
  },
  {
   "cell_type": "code",
   "execution_count": 14,
   "id": "9cc85c61",
   "metadata": {},
   "outputs": [
    {
     "data": {
      "image/png": "[encoded data removed]",
      "text/plain": [
       "<Figure size 1080x360 with 1 Axes>"
      ]
     },
     "metadata": {
      "needs_background": "light"
     },
     "output_type": "display_data"
    }
   ],
   "source": [
    "# top 8 schools with more students who has done the test\n",
    "ax=sns.barplot(data=df_totalstudents[0:8], y='place', x='total_students')\n",
    "ax.set(title='Top 8 Schools', ylabel='', xticks=[], xlabel=' ')\n",
    "ax.bar_label(ax.containers[0])\n",
    "sns.despine(left=True);"
   ]
  },
  {
   "cell_type": "markdown",
   "id": "3d2fe5cc",
   "metadata": {},
   "source": [
    "### Observando Total de Alunos por  curso ID que realizaram os  testes ###"
   ]
  },
  {
   "cell_type": "code",
   "execution_count": 15,
   "id": "43b0915e",
   "metadata": {},
   "outputs": [
    {
     "data": {
      "text/plain": [
       "2458"
      ]
     },
     "execution_count": 15,
     "metadata": {},
     "output_type": "execute_result"
    }
   ],
   "source": [
    "df['student_id'].nunique()"
   ]
  },
  {
   "cell_type": "code",
   "execution_count": 16,
   "id": "c18351bb",
   "metadata": {},
   "outputs": [],
   "source": [
    " df_totalcurso = pd.DataFrame(df.groupby(df['curso_id'])['student_id'].nunique()).reset_index().rename(\n",
    "    columns={'student_id':'total_students'}).sort_values(by='total_students', ascending=False).reset_index(\n",
    " drop=True)"
   ]
  },
  {
   "cell_type": "code",
   "execution_count": 17,
   "id": "d1174669",
   "metadata": {},
   "outputs": [
    {
     "data": {
      "image/png": "[encoded data removed]",
      "text/plain": [
       "<Figure size 1080x360 with 1 Axes>"
      ]
     },
     "metadata": {
      "needs_background": "light"
     },
     "output_type": "display_data"
    }
   ],
   "source": [
    "ax=sns.barplot(data=df_totalcurso, x='curso_id', y='total_students',order=[3,1,2,4,5,6,8,7,9,10])\n",
    "ax.set(title='Total Students who has done test for Course', ylabel='', yticks=[], xlabel=' ')\n",
    "ax.bar_label(ax.containers[0])\n",
    "sns.despine(left=True);"
   ]
  },
  {
   "cell_type": "markdown",
   "id": "2891f9db",
   "metadata": {},
   "source": [
    "### Entendimentos: ###\n",
    "\n",
    "* Notamos que apenas 25% das escolas tiveram mais de 4 alunos realizando os testes, importante compreender com as escolas o porquê de tão baixa adoção.\n",
    "* Quando observamos testes realizados por curso, observamos que o curso 3 concentra mais de 50% dos estudantes. \n",
    "\n",
    "Dado que temos mais informações com a categorização por curso, é interessante analisarmos se há gap no percentual de acerto e erro quando comparamos as respostas do primeiro teste com os do segundo para o mesmo aluno. Nossa hipótese é que os alunos tem ganho percentual de aprendizagem quando comparamos o resultado do primeiro teste com o do segundo"
   ]
  }
 ],
 "metadata": {
  "kernelspec": {
   "display_name": "Python 3 (ipykernel)",
   "language": "python",
   "name": "python3"
  },
  "language_info": {
   "codemirror_mode": {
    "name": "ipython",
    "version": 3
   },
   "file_extension": ".py",
   "mimetype": "text/x-python",
   "name": "python",
   "nbconvert_exporter": "python",
   "pygments_lexer": "ipython3",
   "version": "3.9.7"
  }
 },
 "nbformat": 4,
 "nbformat_minor": 5
}
