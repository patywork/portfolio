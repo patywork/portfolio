{
 "cells": [
  {
   "cell_type": "markdown",
   "id": "aefe078e",
   "metadata": {},
   "source": [
    "## Comparação de Resultados Primeiro Teste *versus* Segundo Teste ##\n",
    "\n",
    "Nesta análise observamos o ganho percentual de aprendizagem do aluno ao compararmos o primeiro e o segundo teste que ele realiza de determinada matéria. O primeiro teste é aplicado antes do incio das aulas e o segundo após toda a jornada do aluno.\n",
    "\n",
    "Nossa hipótese é que em média o aluno tem uma média de acerto mais alto do segundo teste do que no primeiro. "
   ]
  },
  {
   "cell_type": "code",
   "execution_count": 1,
   "id": "9d8f6cdb",
   "metadata": {},
   "outputs": [],
   "source": [
    "import numpy as np\n",
    "import pandas as pd\n",
    "import seaborn as sns\n",
    "import matplotlib.pyplot as plt\n",
    "\n",
    "from scipy import stats"
   ]
  },
  {
   "cell_type": "code",
   "execution_count": 2,
   "id": "009356ae",
   "metadata": {},
   "outputs": [],
   "source": [
    "# define o tamanho das figuras \n",
    "plt.rcParams[\"figure.figsize\"] = (15,5) "
   ]
  },
  {
   "cell_type": "code",
   "execution_count": 3,
   "id": "2bff826e",
   "metadata": {},
   "outputs": [],
   "source": [
    "def print_test_shapiro(df):\n",
    "  df = df.dropna().to_numpy()\n",
    "  print(f'Amostra: {len(df)}')\n",
    "  shapiro_stat, shapiro_p_value = stats.shapiro(df)\n",
    "  print(f'Valor da estatística de Shapiro-Wilk: {shapiro_stat}')\n",
    "  print(f'P-valor de Shapiro-Wilk: {shapiro_p_value}')\n",
    "  if shapiro_p_value > 0.05 :\n",
    "    print('Com 95% de confiança, os dados \\033[1msão similares a uma distribuição normal\\033[0;0m segundo o teste de Shapiro-Wilk.')\n",
    "  else:\n",
    "    print('Com 95% de confiança, os dados \\033[1mnão são similares a uma distribuição normal\\033[0;0m segundo o teste de Shapiro-Wilk.')"
   ]
  },
  {
   "cell_type": "code",
   "execution_count": 5,
   "id": "099c7947",
   "metadata": {},
   "outputs": [],
   "source": [
    "#upload data\n",
    "data = pd.read_csv('data_test.csv')"
   ]
  },
  {
   "cell_type": "code",
   "execution_count": 6,
   "id": "d4252901",
   "metadata": {},
   "outputs": [
    {
     "name": "stdout",
     "output_type": "stream",
     "text": [
      "<class 'pandas.core.frame.DataFrame'>\n",
      "RangeIndex: 64170 entries, 0 to 64169\n",
      "Data columns (total 10 columns):\n",
      " #   Column          Non-Null Count  Dtype  \n",
      "---  ------          --------------  -----  \n",
      " 0   student_id      64170 non-null  int64  \n",
      " 1   place           64170 non-null  object \n",
      " 2   curso_id        64170 non-null  int64  \n",
      " 3   first_test      64170 non-null  object \n",
      " 4   question_id     64170 non-null  int64  \n",
      " 5   correct_first   64170 non-null  int64  \n",
      " 6   second_test     64170 non-null  object \n",
      " 7   correct_second  64170 non-null  float64\n",
      " 8   date_first      64170 non-null  object \n",
      " 9   date_second     64170 non-null  object \n",
      "dtypes: float64(1), int64(4), object(5)\n",
      "memory usage: 4.9+ MB\n"
     ]
    }
   ],
   "source": [
    "data.info()"
   ]
  },
  {
   "cell_type": "code",
   "execution_count": 7,
   "id": "caba90f3",
   "metadata": {},
   "outputs": [],
   "source": [
    "data['correct_first']=data['correct_first'].astype('int')"
   ]
  },
  {
   "cell_type": "code",
   "execution_count": 13,
   "id": "b937f5dc",
   "metadata": {},
   "outputs": [],
   "source": [
    "data_groupby=pd.DataFrame(data.groupby(['student_id','curso_id'])[['correct_first',\n",
    "                                        'correct_second']].sum()).reset_index()\n",
    "data_groupby['%_first']=data_groupby['correct_first']/25\n",
    "data_groupby['%_second']=data_groupby['correct_second']/25\n",
    "data_groupby['delta']=np.round((data_groupby['%_second']-data_groupby['%_first'])*100,2)"
   ]
  },
  {
   "cell_type": "code",
   "execution_count": 16,
   "id": "e92061ed",
   "metadata": {},
   "outputs": [
    {
     "data": {
      "text/html": [
       "<div>\n",
       "<style scoped>\n",
       "    .dataframe tbody tr th:only-of-type {\n",
       "        vertical-align: middle;\n",
       "    }\n",
       "\n",
       "    .dataframe tbody tr th {\n",
       "        vertical-align: top;\n",
       "    }\n",
       "\n",
       "    .dataframe thead th {\n",
       "        text-align: right;\n",
       "    }\n",
       "</style>\n",
       "<table border=\"1\" class=\"dataframe\">\n",
       "  <thead>\n",
       "    <tr style=\"text-align: right;\">\n",
       "      <th></th>\n",
       "      <th>curso_id</th>\n",
       "      <th>percentual mean increase</th>\n",
       "    </tr>\n",
       "  </thead>\n",
       "  <tbody>\n",
       "    <tr>\n",
       "      <th>0</th>\n",
       "      <td>1</td>\n",
       "      <td>24.112311</td>\n",
       "    </tr>\n",
       "    <tr>\n",
       "      <th>1</th>\n",
       "      <td>2</td>\n",
       "      <td>15.783133</td>\n",
       "    </tr>\n",
       "    <tr>\n",
       "      <th>2</th>\n",
       "      <td>3</td>\n",
       "      <td>35.552428</td>\n",
       "    </tr>\n",
       "    <tr>\n",
       "      <th>3</th>\n",
       "      <td>4</td>\n",
       "      <td>12.250000</td>\n",
       "    </tr>\n",
       "    <tr>\n",
       "      <th>4</th>\n",
       "      <td>5</td>\n",
       "      <td>12.752941</td>\n",
       "    </tr>\n",
       "    <tr>\n",
       "      <th>5</th>\n",
       "      <td>6</td>\n",
       "      <td>5.052632</td>\n",
       "    </tr>\n",
       "    <tr>\n",
       "      <th>6</th>\n",
       "      <td>7</td>\n",
       "      <td>11.000000</td>\n",
       "    </tr>\n",
       "    <tr>\n",
       "      <th>7</th>\n",
       "      <td>8</td>\n",
       "      <td>14.048780</td>\n",
       "    </tr>\n",
       "    <tr>\n",
       "      <th>8</th>\n",
       "      <td>9</td>\n",
       "      <td>16.000000</td>\n",
       "    </tr>\n",
       "    <tr>\n",
       "      <th>9</th>\n",
       "      <td>10</td>\n",
       "      <td>0.000000</td>\n",
       "    </tr>\n",
       "  </tbody>\n",
       "</table>\n",
       "</div>"
      ],
      "text/plain": [
       "   curso_id  percentual mean increase\n",
       "0         1                 24.112311\n",
       "1         2                 15.783133\n",
       "2         3                 35.552428\n",
       "3         4                 12.250000\n",
       "4         5                 12.752941\n",
       "5         6                  5.052632\n",
       "6         7                 11.000000\n",
       "7         8                 14.048780\n",
       "8         9                 16.000000\n",
       "9        10                  0.000000"
      ]
     },
     "execution_count": 16,
     "metadata": {},
     "output_type": "execute_result"
    }
   ],
   "source": [
    "#percentual mean increase by course\n",
    "pd.DataFrame(data_groupby.groupby('curso_id')['delta'].mean()).reset_index().rename(\n",
    "    columns={'delta':'percentual mean increase'})"
   ]
  },
  {
   "cell_type": "markdown",
   "id": "a8fe64b5",
   "metadata": {},
   "source": [
    "Observando o ganho percentual por curso, notamos que os cursos 1 e 3 são os cursos com maior ganho percentual quando comparamos o resultado do primeito teste com o do segundo. \n",
    "\n",
    "Nossa hipótese é que os alunos performam melhor na prova após cumprirem a jornada de aprendizado. Para validarmos esta hipótese nós a testaremos a seguir"
   ]
  },
  {
   "cell_type": "markdown",
   "id": "966681bd",
   "metadata": {},
   "source": [
    "### Curso ID 3 ###\n",
    "Média de pontos percentuais: 35.5524281pp"
   ]
  },
  {
   "cell_type": "code",
   "execution_count": 22,
   "id": "13643b2f",
   "metadata": {},
   "outputs": [
    {
     "data": {
      "image/png": "[encoded data removed]",
      "text/plain": [
       "<Figure size 1080x360 with 2 Axes>"
      ]
     },
     "metadata": {
      "needs_background": "light"
     },
     "output_type": "display_data"
    }
   ],
   "source": [
    "fig, axs = plt.subplots(nrows=1,ncols=2, sharey=True)\n",
    "sns.boxplot(y=data_groupby.loc[data_groupby['curso_id']==3,'%_first'], \n",
    "            ax=axs[0], color='#9E007E')\n",
    "axs[0].set_ylabel('')\n",
    "axs[0].set_xlabel('%_first_correct_answers', fontsize=14)\n",
    "sns.boxplot(y=data_groupby.loc[data_groupby['curso_id']==3,'%_second'], \n",
    "            ax=axs[1], color='#84BD00')\n",
    "axs[1].set_xlabel('%_second_correct_answers', fontsize=14)\n",
    "axs[1].set_ylabel('')\n",
    "axs[1].axes.get_yaxis().set_visible(False)\n",
    "sns.despine(right=True, top=True);"
   ]
  },
  {
   "cell_type": "markdown",
   "id": "a76d375a",
   "metadata": {},
   "source": [
    "Podemos observar que a mediana de acerto no segunda prova sobe, mostrando que 50% dos alunos acertam mais questões nesta prova do que na primeira. Observamos também que diminui a variabilidade de acerto ao compararmos o segundo teste com o primeiro."
   ]
  },
  {
   "cell_type": "code",
   "execution_count": 25,
   "id": "12bb9a16",
   "metadata": {},
   "outputs": [
    {
     "name": "stdout",
     "output_type": "stream",
     "text": [
      "Amostra: 1421\n",
      "Valor da estatística de Shapiro-Wilk: 0.9762173295021057\n",
      "P-valor de Shapiro-Wilk: 1.4279688000627677e-14\n",
      "Com 95% de confiança, os dados \u001b[1mnão são similares a uma distribuição normal\u001b[0;0m segundo o teste de Shapiro-Wilk.\n"
     ]
    }
   ],
   "source": [
    "#checamos se a distribuição segue uma normal\n",
    "print_test_shapiro(data_groupby.loc[data_groupby['curso_id']==3,'%_first'])"
   ]
  },
  {
   "cell_type": "code",
   "execution_count": 26,
   "id": "3471b72c",
   "metadata": {},
   "outputs": [
    {
     "name": "stdout",
     "output_type": "stream",
     "text": [
      "Amostra: 1421\n",
      "Valor da estatística de Shapiro-Wilk: 0.9043660163879395\n",
      "P-valor de Shapiro-Wilk: 6.32384393546896e-29\n",
      "Com 95% de confiança, os dados \u001b[1mnão são similares a uma distribuição normal\u001b[0;0m segundo o teste de Shapiro-Wilk.\n"
     ]
    }
   ],
   "source": [
    "print_test_shapiro(data_groupby.loc[data_groupby['curso_id']==3,'%_second'])"
   ]
  },
  {
   "cell_type": "code",
   "execution_count": 29,
   "id": "061ea41d",
   "metadata": {},
   "outputs": [
    {
     "data": {
      "text/plain": [
       "WilcoxonResult(statistic=12140.0, pvalue=1.4898565044583763e-216)"
      ]
     },
     "execution_count": 29,
     "metadata": {},
     "output_type": "execute_result"
    }
   ],
   "source": [
    "stats.wilcoxon(x=data_groupby.loc[data_groupby['curso_id']==3,'%_first'],\n",
    "               y=data_groupby.loc[data_groupby['curso_id']==3,'%_second'],\n",
    "               alternative='less')"
   ]
  },
  {
   "cell_type": "markdown",
   "id": "6e6167c6",
   "metadata": {},
   "source": [
    "Não evidências para que refutemos a hipótese nula"
   ]
  },
  {
   "cell_type": "markdown",
   "id": "3392a86e",
   "metadata": {},
   "source": [
    "### Curso ID 1 ###\n",
    "Média de pontos percentuais: 24.112311pp"
   ]
  },
  {
   "cell_type": "code",
   "execution_count": 30,
   "id": "39fe1926",
   "metadata": {},
   "outputs": [
    {
     "data": {
      "image/png": "[encoded data removed]",
      "text/plain": [
       "<Figure size 1080x360 with 2 Axes>"
      ]
     },
     "metadata": {
      "needs_background": "light"
     },
     "output_type": "display_data"
    }
   ],
   "source": [
    "fig, axs = plt.subplots(nrows=1,ncols=2, sharey=True)\n",
    "sns.boxplot(y=data_groupby.loc[data_groupby['curso_id']==1,'%_first'], ax=axs[0], color='#9E007E')\n",
    "axs[0].set_ylabel('')\n",
    "axs[0].set_xlabel('%_first_correct_answers', fontsize=14)\n",
    "sns.boxplot(y=data_groupby.loc[data_groupby['curso_id']==1,'%_second'], ax=axs[1], color='#84BD00')\n",
    "axs[1].set_xlabel('%_second_correct_answers', fontsize=14)\n",
    "axs[1].set_ylabel('')\n",
    "axs[1].axes.get_yaxis().set_visible(False)\n",
    "sns.despine(right=True, top=True);"
   ]
  },
  {
   "cell_type": "markdown",
   "id": "6305fd18",
   "metadata": {},
   "source": [
    "Assim como no curso 1 observamos que a mediana de acerto no segunda prova sobe, mostrando que 50% dos alunos acertam mais questões nesta prova do que na primeira. Observamos também que diminui a variabilidade de acerto ao compararmos o segundo teste com o primeiro."
   ]
  },
  {
   "cell_type": "code",
   "execution_count": 31,
   "id": "151b7fee",
   "metadata": {},
   "outputs": [
    {
     "name": "stdout",
     "output_type": "stream",
     "text": [
      "Amostra: 463\n",
      "Valor da estatística de Shapiro-Wilk: 0.9702516198158264\n",
      "P-valor de Shapiro-Wilk: 4.354617999524635e-08\n",
      "Com 95% de confiança, os dados \u001b[1mnão são similares a uma distribuição normal\u001b[0;0m segundo o teste de Shapiro-Wilk.\n"
     ]
    }
   ],
   "source": [
    "print_test_shapiro(data_groupby.loc[data_groupby['curso_id']==1,'%_first'])"
   ]
  },
  {
   "cell_type": "code",
   "execution_count": 32,
   "id": "7e0d05ff",
   "metadata": {},
   "outputs": [
    {
     "name": "stdout",
     "output_type": "stream",
     "text": [
      "Amostra: 463\n",
      "Valor da estatística de Shapiro-Wilk: 0.89936363697052\n",
      "P-valor de Shapiro-Wilk: 6.62725195376665e-17\n",
      "Com 95% de confiança, os dados \u001b[1mnão são similares a uma distribuição normal\u001b[0;0m segundo o teste de Shapiro-Wilk.\n"
     ]
    }
   ],
   "source": [
    "print_test_shapiro(data_groupby.loc[data_groupby['curso_id']==1,'%_second'])"
   ]
  },
  {
   "cell_type": "code",
   "execution_count": 33,
   "id": "696f9ea9",
   "metadata": {},
   "outputs": [
    {
     "data": {
      "text/plain": [
       "WilcoxonResult(statistic=8198.5, pvalue=1.8636073177489775e-51)"
      ]
     },
     "execution_count": 33,
     "metadata": {},
     "output_type": "execute_result"
    }
   ],
   "source": [
    "stats.wilcoxon(x=data_groupby.loc[data_groupby['curso_id']==1,'%_first'],\n",
    "               y=data_groupby.loc[data_groupby['curso_id']==1,'%_second'],\n",
    "               alternative='less')"
   ]
  },
  {
   "cell_type": "markdown",
   "id": "556cb011",
   "metadata": {},
   "source": [
    "Não há evidências para rejeitarmos a hipótese nula."
   ]
  }
 ],
 "metadata": {
  "kernelspec": {
   "display_name": "Python 3 (ipykernel)",
   "language": "python",
   "name": "python3"
  },
  "language_info": {
   "codemirror_mode": {
    "name": "ipython",
    "version": 3
   },
   "file_extension": ".py",
   "mimetype": "text/x-python",
   "name": "python",
   "nbconvert_exporter": "python",
   "pygments_lexer": "ipython3",
   "version": "3.9.7"
  }
 },
 "nbformat": 4,
 "nbformat_minor": 5
}
