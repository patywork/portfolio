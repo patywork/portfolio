{
 "cells": [
  {
   "cell_type": "markdown",
   "id": "d59f6887-edb0-469b-a5a6-41e097c93c76",
   "metadata": {},
   "source": [
    "### Bonus for Delivery Drivers ###\n",
    "The marketing department would like to register more delivery drivers in the company database.  Therefore, they will give a bonus to the 20 delivery drivers who drive the greatest delivery distance. This bonus will be distributed according to vehicle type and driver mode.\n",
    "\n",
    "The tables used are:\n",
    "\n",
    "    deliveries\n",
    "    drivers"
   ]
  },
  {
   "cell_type": "code",
   "execution_count": 1,
   "id": "c8e21e66-21fe-43d3-8b05-6535a8187b19",
   "metadata": {},
   "outputs": [
    {
     "name": "stdout",
     "output_type": "stream",
     "text": [
      "Intel MKL WARNING: Support of Intel(R) Streaming SIMD Extensions 4.2 (Intel(R) SSE4.2) enabled only processors has been deprecated. Intel oneAPI Math Kernel Library 2025.0 will require Intel(R) Advanced Vector Extensions (Intel(R) AVX) instructions.\n",
      "Intel MKL WARNING: Support of Intel(R) Streaming SIMD Extensions 4.2 (Intel(R) SSE4.2) enabled only processors has been deprecated. Intel oneAPI Math Kernel Library 2025.0 will require Intel(R) Advanced Vector Extensions (Intel(R) AVX) instructions.\n"
     ]
    }
   ],
   "source": [
    "import numpy as np\n",
    "import pandas as pd\n",
    "import seaborn as sns\n",
    "import matplotlib.pyplot as plt"
   ]
  },
  {
   "cell_type": "code",
   "execution_count": 2,
   "id": "40f69a4c-d267-468e-845a-7a4a3c79c85f",
   "metadata": {},
   "outputs": [],
   "source": [
    "def first_view(data):\n",
    "    \"\"\"\n",
    "    This function allows to check the variables name, and types.\n",
    "    Additionaly it allows to check the percentage of null values for each variable\n",
    "\n",
    "    input: dataframe to be queried\n",
    "    \"\"\"\n",
    "    dtype=data.info()\n",
    "    null_percentage=(data.isnull().sum() / data.shape[0] * 100)\n",
    "    null_df = pd.DataFrame({'variable': null_percentage.index, \n",
    "                        'null_percentage': null_percentage.values})\n",
    "    null_df.columns=[['variables', 'null_percentage']]\n",
    "    return print(dtype, \n",
    "                 null_df)"
   ]
  },
  {
   "cell_type": "code",
   "execution_count": 3,
   "id": "ffb7fac6-35f4-4833-a4f1-35f751098ced",
   "metadata": {},
   "outputs": [],
   "source": [
    "delivery_data=pd.read_csv(r'datasets/deliveries.csv')"
   ]
  },
  {
   "cell_type": "code",
   "execution_count": 4,
   "id": "aa51de60-3574-4ae9-bb14-97da90c77af4",
   "metadata": {},
   "outputs": [
    {
     "name": "stdout",
     "output_type": "stream",
     "text": [
      "<class 'pandas.core.frame.DataFrame'>\n",
      "RangeIndex: 378843 entries, 0 to 378842\n",
      "Data columns (total 5 columns):\n",
      " #   Column                    Non-Null Count   Dtype  \n",
      "---  ------                    --------------   -----  \n",
      " 0   delivery_id               378843 non-null  int64  \n",
      " 1   delivery_order_id         378843 non-null  int64  \n",
      " 2   driver_id                 362957 non-null  float64\n",
      " 3   delivery_distance_meters  378770 non-null  float64\n",
      " 4   delivery_status           378843 non-null  object \n",
      "dtypes: float64(2), int64(2), object(1)\n",
      "memory usage: 14.5+ MB\n",
      "None                   variables null_percentage\n",
      "0               delivery_id        0.000000\n",
      "1         delivery_order_id        0.000000\n",
      "2                 driver_id        4.193294\n",
      "3  delivery_distance_meters        0.019269\n",
      "4           delivery_status        0.000000\n"
     ]
    }
   ],
   "source": [
    "first_view(delivery_data)"
   ]
  },
  {
   "cell_type": "code",
   "execution_count": 5,
   "id": "945efc47-0f1c-474b-882a-13a048c4f3c3",
   "metadata": {},
   "outputs": [
    {
     "data": {
      "text/html": [
       "<div>\n",
       "<style scoped>\n",
       "    .dataframe tbody tr th:only-of-type {\n",
       "        vertical-align: middle;\n",
       "    }\n",
       "\n",
       "    .dataframe tbody tr th {\n",
       "        vertical-align: top;\n",
       "    }\n",
       "\n",
       "    .dataframe thead th {\n",
       "        text-align: right;\n",
       "    }\n",
       "</style>\n",
       "<table border=\"1\" class=\"dataframe\">\n",
       "  <thead>\n",
       "    <tr style=\"text-align: right;\">\n",
       "      <th></th>\n",
       "      <th>delivery_id</th>\n",
       "      <th>delivery_order_id</th>\n",
       "      <th>driver_id</th>\n",
       "      <th>delivery_distance_meters</th>\n",
       "      <th>delivery_status</th>\n",
       "    </tr>\n",
       "  </thead>\n",
       "  <tbody>\n",
       "    <tr>\n",
       "      <th>0</th>\n",
       "      <td>2174658</td>\n",
       "      <td>68413340</td>\n",
       "      <td>8378.0</td>\n",
       "      <td>5199.0</td>\n",
       "      <td>DELIVERED</td>\n",
       "    </tr>\n",
       "    <tr>\n",
       "      <th>1</th>\n",
       "      <td>2174660</td>\n",
       "      <td>68414309</td>\n",
       "      <td>2473.0</td>\n",
       "      <td>410.0</td>\n",
       "      <td>DELIVERED</td>\n",
       "    </tr>\n",
       "    <tr>\n",
       "      <th>2</th>\n",
       "      <td>2174661</td>\n",
       "      <td>68416230</td>\n",
       "      <td>7615.0</td>\n",
       "      <td>3784.0</td>\n",
       "      <td>DELIVERED</td>\n",
       "    </tr>\n",
       "    <tr>\n",
       "      <th>3</th>\n",
       "      <td>2174663</td>\n",
       "      <td>68412721</td>\n",
       "      <td>8378.0</td>\n",
       "      <td>5714.0</td>\n",
       "      <td>DELIVERED</td>\n",
       "    </tr>\n",
       "    <tr>\n",
       "      <th>4</th>\n",
       "      <td>2174675</td>\n",
       "      <td>68414018</td>\n",
       "      <td>10463.0</td>\n",
       "      <td>3746.0</td>\n",
       "      <td>DELIVERED</td>\n",
       "    </tr>\n",
       "  </tbody>\n",
       "</table>\n",
       "</div>"
      ],
      "text/plain": [
       "   delivery_id  delivery_order_id  driver_id  delivery_distance_meters  \\\n",
       "0      2174658           68413340     8378.0                    5199.0   \n",
       "1      2174660           68414309     2473.0                     410.0   \n",
       "2      2174661           68416230     7615.0                    3784.0   \n",
       "3      2174663           68412721     8378.0                    5714.0   \n",
       "4      2174675           68414018    10463.0                    3746.0   \n",
       "\n",
       "  delivery_status  \n",
       "0       DELIVERED  \n",
       "1       DELIVERED  \n",
       "2       DELIVERED  \n",
       "3       DELIVERED  \n",
       "4       DELIVERED  "
      ]
     },
     "execution_count": 5,
     "metadata": {},
     "output_type": "execute_result"
    }
   ],
   "source": [
    "delivery_data.head()"
   ]
  },
  {
   "cell_type": "code",
   "execution_count": 6,
   "id": "53604e04-774b-4882-9757-a4d892fc392f",
   "metadata": {},
   "outputs": [],
   "source": [
    "#padronize id variables \n",
    "delivery_data.delivery_id=delivery_data.delivery_id.astype('string')\n",
    "delivery_data.delivery_order_id=delivery_data.delivery_order_id.astype('string')\n",
    "delivery_data.driver_id=delivery_data.driver_id.astype('string').str[:-2]"
   ]
  },
  {
   "cell_type": "code",
   "execution_count": 7,
   "id": "3f869172-f066-4a42-b20c-7a58e41e750d",
   "metadata": {},
   "outputs": [
    {
     "data": {
      "text/plain": [
       "False    378843\n",
       "Name: count, dtype: int64"
      ]
     },
     "execution_count": 7,
     "metadata": {},
     "output_type": "execute_result"
    }
   ],
   "source": [
    "#checking duplicity\n",
    "delivery_data.duplicated().value_counts()"
   ]
  },
  {
   "cell_type": "code",
   "execution_count": 8,
   "id": "cf49a05c-bae8-4ffe-b880-bb4c40043c9b",
   "metadata": {},
   "outputs": [
    {
     "data": {
      "text/plain": [
       "delivery_id\n",
       "False    378843\n",
       "Name: count, dtype: int64"
      ]
     },
     "execution_count": 8,
     "metadata": {},
     "output_type": "execute_result"
    }
   ],
   "source": [
    "#checking duplicity of delivery id\n",
    "delivery_data.delivery_id.duplicated().value_counts()"
   ]
  },
  {
   "cell_type": "code",
   "execution_count": 9,
   "id": "63735507-7777-4219-8c11-f412bca9c7aa",
   "metadata": {},
   "outputs": [
    {
     "data": {
      "text/plain": [
       "delivery_order_id\n",
       "False    0.946709\n",
       "True     0.053291\n",
       "Name: proportion, dtype: float64"
      ]
     },
     "execution_count": 9,
     "metadata": {},
     "output_type": "execute_result"
    }
   ],
   "source": [
    "#checking duplicity of delivery order id\n",
    "delivery_data.delivery_order_id.duplicated().value_counts(normalize=True)"
   ]
  },
  {
   "cell_type": "code",
   "execution_count": 10,
   "id": "729ad173-b928-4705-9251-a9aaa8dab412",
   "metadata": {},
   "outputs": [
    {
     "data": {
      "text/html": [
       "<div>\n",
       "<style scoped>\n",
       "    .dataframe tbody tr th:only-of-type {\n",
       "        vertical-align: middle;\n",
       "    }\n",
       "\n",
       "    .dataframe tbody tr th {\n",
       "        vertical-align: top;\n",
       "    }\n",
       "\n",
       "    .dataframe thead th {\n",
       "        text-align: right;\n",
       "    }\n",
       "</style>\n",
       "<table border=\"1\" class=\"dataframe\">\n",
       "  <thead>\n",
       "    <tr style=\"text-align: right;\">\n",
       "      <th></th>\n",
       "      <th>delivery_id</th>\n",
       "      <th>delivery_order_id</th>\n",
       "      <th>driver_id</th>\n",
       "      <th>delivery_distance_meters</th>\n",
       "      <th>delivery_status</th>\n",
       "    </tr>\n",
       "  </thead>\n",
       "  <tbody>\n",
       "    <tr>\n",
       "      <th>11</th>\n",
       "      <td>2174705</td>\n",
       "      <td>68416059</td>\n",
       "      <td>9996</td>\n",
       "      <td>1450.0</td>\n",
       "      <td>DELIVERED</td>\n",
       "    </tr>\n",
       "    <tr>\n",
       "      <th>13</th>\n",
       "      <td>2174708</td>\n",
       "      <td>68416059</td>\n",
       "      <td>9996</td>\n",
       "      <td>1450.0</td>\n",
       "      <td>DELIVERED</td>\n",
       "    </tr>\n",
       "    <tr>\n",
       "      <th>40</th>\n",
       "      <td>2174790</td>\n",
       "      <td>68422281</td>\n",
       "      <td>25651</td>\n",
       "      <td>3667.0</td>\n",
       "      <td>DELIVERED</td>\n",
       "    </tr>\n",
       "    <tr>\n",
       "      <th>140</th>\n",
       "      <td>2175030</td>\n",
       "      <td>68422281</td>\n",
       "      <td>9996</td>\n",
       "      <td>3667.0</td>\n",
       "      <td>DELIVERED</td>\n",
       "    </tr>\n",
       "    <tr>\n",
       "      <th>192</th>\n",
       "      <td>2175149</td>\n",
       "      <td>68424216</td>\n",
       "      <td>17322</td>\n",
       "      <td>1452.0</td>\n",
       "      <td>DELIVERED</td>\n",
       "    </tr>\n",
       "    <tr>\n",
       "      <th>...</th>\n",
       "      <td>...</td>\n",
       "      <td>...</td>\n",
       "      <td>...</td>\n",
       "      <td>...</td>\n",
       "      <td>...</td>\n",
       "    </tr>\n",
       "    <tr>\n",
       "      <th>378567</th>\n",
       "      <td>3091917</td>\n",
       "      <td>93139644</td>\n",
       "      <td>26223</td>\n",
       "      <td>1068.0</td>\n",
       "      <td>DELIVERED</td>\n",
       "    </tr>\n",
       "    <tr>\n",
       "      <th>378751</th>\n",
       "      <td>3093159</td>\n",
       "      <td>93139740</td>\n",
       "      <td>44544</td>\n",
       "      <td>3009.0</td>\n",
       "      <td>DELIVERED</td>\n",
       "    </tr>\n",
       "    <tr>\n",
       "      <th>378678</th>\n",
       "      <td>3092299</td>\n",
       "      <td>93139740</td>\n",
       "      <td>17265</td>\n",
       "      <td>3009.0</td>\n",
       "      <td>DELIVERED</td>\n",
       "    </tr>\n",
       "    <tr>\n",
       "      <th>378742</th>\n",
       "      <td>3092919</td>\n",
       "      <td>93139776</td>\n",
       "      <td>1855</td>\n",
       "      <td>2557.0</td>\n",
       "      <td>DELIVERED</td>\n",
       "    </tr>\n",
       "    <tr>\n",
       "      <th>378618</th>\n",
       "      <td>3092062</td>\n",
       "      <td>93139776</td>\n",
       "      <td>10504</td>\n",
       "      <td>2557.0</td>\n",
       "      <td>DELIVERED</td>\n",
       "    </tr>\n",
       "  </tbody>\n",
       "</table>\n",
       "<p>38913 rows × 5 columns</p>\n",
       "</div>"
      ],
      "text/plain": [
       "       delivery_id delivery_order_id driver_id  delivery_distance_meters  \\\n",
       "11         2174705          68416059      9996                    1450.0   \n",
       "13         2174708          68416059      9996                    1450.0   \n",
       "40         2174790          68422281     25651                    3667.0   \n",
       "140        2175030          68422281      9996                    3667.0   \n",
       "192        2175149          68424216     17322                    1452.0   \n",
       "...            ...               ...       ...                       ...   \n",
       "378567     3091917          93139644     26223                    1068.0   \n",
       "378751     3093159          93139740     44544                    3009.0   \n",
       "378678     3092299          93139740     17265                    3009.0   \n",
       "378742     3092919          93139776      1855                    2557.0   \n",
       "378618     3092062          93139776     10504                    2557.0   \n",
       "\n",
       "       delivery_status  \n",
       "11           DELIVERED  \n",
       "13           DELIVERED  \n",
       "40           DELIVERED  \n",
       "140          DELIVERED  \n",
       "192          DELIVERED  \n",
       "...                ...  \n",
       "378567       DELIVERED  \n",
       "378751       DELIVERED  \n",
       "378678       DELIVERED  \n",
       "378742       DELIVERED  \n",
       "378618       DELIVERED  \n",
       "\n",
       "[38913 rows x 5 columns]"
      ]
     },
     "execution_count": 10,
     "metadata": {},
     "output_type": "execute_result"
    }
   ],
   "source": [
    "delivery_order_filter=delivery_data.loc[delivery_data.delivery_order_id.duplicated(), 'delivery_order_id']\n",
    "delivery_data[delivery_data.delivery_order_id.isin(delivery_order_filter)].sort_values(by='delivery_order_id')"
   ]
  },
  {
   "cell_type": "markdown",
   "id": "1d5863ce-11c7-4a74-8886-1cca2c606ed4",
   "metadata": {},
   "source": [
    "We cannot identify the reason for this duplication by examining the data. Since the delivery_id is generated in the order table, we will analyze that table to understand the duplication."
   ]
  },
  {
   "cell_type": "markdown",
   "id": "51d0c21a-6bd0-4b7e-9e75-6f7721ffa368",
   "metadata": {},
   "source": [
    "### Analyzing order_data table ###"
   ]
  },
  {
   "cell_type": "code",
   "execution_count": 11,
   "id": "a23da1b0-4028-4def-b5d6-f13a38e0e1d1",
   "metadata": {},
   "outputs": [],
   "source": [
    "order_data=pd.read_csv(r'datasets/orders.csv')"
   ]
  },
  {
   "cell_type": "code",
   "execution_count": 12,
   "id": "9e29ea26-c828-486c-bb49-dd598638ee97",
   "metadata": {},
   "outputs": [
    {
     "name": "stdout",
     "output_type": "stream",
     "text": [
      "<class 'pandas.core.frame.DataFrame'>\n",
      "RangeIndex: 368999 entries, 0 to 368998\n",
      "Data columns (total 29 columns):\n",
      " #   Column                             Non-Null Count   Dtype  \n",
      "---  ------                             --------------   -----  \n",
      " 0   order_id                           368999 non-null  int64  \n",
      " 1   store_id                           368999 non-null  int64  \n",
      " 2   channel_id                         368999 non-null  int64  \n",
      " 3   payment_order_id                   368999 non-null  int64  \n",
      " 4   delivery_order_id                  368999 non-null  int64  \n",
      " 5   order_status                       368999 non-null  object \n",
      " 6   order_amount                       368999 non-null  float64\n",
      " 7   order_delivery_fee                 368999 non-null  float64\n",
      " 8   order_delivery_cost                361794 non-null  float64\n",
      " 9   order_created_hour                 368999 non-null  int64  \n",
      " 10  order_created_minute               368999 non-null  int64  \n",
      " 11  order_created_day                  368999 non-null  int64  \n",
      " 12  order_created_month                368999 non-null  int64  \n",
      " 13  order_created_year                 368999 non-null  int64  \n",
      " 14  order_moment_created               368999 non-null  object \n",
      " 15  order_moment_accepted              359538 non-null  object \n",
      " 16  order_moment_ready                 343893 non-null  object \n",
      " 17  order_moment_collected             326105 non-null  object \n",
      " 18  order_moment_in_expedition         301570 non-null  object \n",
      " 19  order_moment_delivering            343683 non-null  object \n",
      " 20  order_moment_delivered             19601 non-null   object \n",
      " 21  order_moment_finished              353400 non-null  object \n",
      " 22  order_metric_collected_time        317507 non-null  float64\n",
      " 23  order_metric_paused_time           297594 non-null  float64\n",
      " 24  order_metric_production_time       343892 non-null  float64\n",
      " 25  order_metric_walking_time          294943 non-null  float64\n",
      " 26  order_metric_expediton_speed_time  334417 non-null  float64\n",
      " 27  order_metric_transit_time          343142 non-null  float64\n",
      " 28  order_metric_cycle_time            353380 non-null  float64\n",
      "dtypes: float64(10), int64(10), object(9)\n",
      "memory usage: 81.6+ MB\n",
      "None                             variables null_percentage\n",
      "0                            order_id        0.000000\n",
      "1                            store_id        0.000000\n",
      "2                          channel_id        0.000000\n",
      "3                    payment_order_id        0.000000\n",
      "4                   delivery_order_id        0.000000\n",
      "5                        order_status        0.000000\n",
      "6                        order_amount        0.000000\n",
      "7                  order_delivery_fee        0.000000\n",
      "8                 order_delivery_cost        1.952580\n",
      "9                  order_created_hour        0.000000\n",
      "10               order_created_minute        0.000000\n",
      "11                  order_created_day        0.000000\n",
      "12                order_created_month        0.000000\n",
      "13                 order_created_year        0.000000\n",
      "14               order_moment_created        0.000000\n",
      "15              order_moment_accepted        2.563964\n",
      "16                 order_moment_ready        6.803812\n",
      "17             order_moment_collected       11.624422\n",
      "18         order_moment_in_expedition       18.273491\n",
      "19            order_moment_delivering        6.860723\n",
      "20             order_moment_delivered       94.688061\n",
      "21              order_moment_finished        4.227383\n",
      "22        order_metric_collected_time       13.954509\n",
      "23           order_metric_paused_time       19.351001\n",
      "24       order_metric_production_time        6.804083\n",
      "25          order_metric_walking_time       20.069431\n",
      "26  order_metric_expediton_speed_time        9.371841\n",
      "27          order_metric_transit_time        7.007336\n",
      "28            order_metric_cycle_time        4.232803\n"
     ]
    }
   ],
   "source": [
    "first_view(order_data)"
   ]
  },
  {
   "cell_type": "code",
   "execution_count": 13,
   "id": "7edcd7af-af5c-48bc-906f-c106f3834f5b",
   "metadata": {},
   "outputs": [],
   "source": [
    "#padronizing id \n",
    "order_data.delivery_order_id=order_data.delivery_order_id.astype('string')"
   ]
  },
  {
   "cell_type": "code",
   "execution_count": 14,
   "id": "15dc256c-0d68-443d-8b2e-c83d32b93f11",
   "metadata": {},
   "outputs": [
    {
     "data": {
      "text/html": [
       "<div>\n",
       "<style scoped>\n",
       "    .dataframe tbody tr th:only-of-type {\n",
       "        vertical-align: middle;\n",
       "    }\n",
       "\n",
       "    .dataframe tbody tr th {\n",
       "        vertical-align: top;\n",
       "    }\n",
       "\n",
       "    .dataframe thead th {\n",
       "        text-align: right;\n",
       "    }\n",
       "</style>\n",
       "<table border=\"1\" class=\"dataframe\">\n",
       "  <thead>\n",
       "    <tr style=\"text-align: right;\">\n",
       "      <th></th>\n",
       "      <th>order_id</th>\n",
       "      <th>store_id</th>\n",
       "      <th>channel_id</th>\n",
       "      <th>payment_order_id</th>\n",
       "      <th>delivery_order_id</th>\n",
       "      <th>order_status</th>\n",
       "      <th>order_amount</th>\n",
       "      <th>order_delivery_fee</th>\n",
       "      <th>order_delivery_cost</th>\n",
       "      <th>order_created_hour</th>\n",
       "      <th>...</th>\n",
       "      <th>order_moment_delivering</th>\n",
       "      <th>order_moment_delivered</th>\n",
       "      <th>order_moment_finished</th>\n",
       "      <th>order_metric_collected_time</th>\n",
       "      <th>order_metric_paused_time</th>\n",
       "      <th>order_metric_production_time</th>\n",
       "      <th>order_metric_walking_time</th>\n",
       "      <th>order_metric_expediton_speed_time</th>\n",
       "      <th>order_metric_transit_time</th>\n",
       "      <th>order_metric_cycle_time</th>\n",
       "    </tr>\n",
       "  </thead>\n",
       "  <tbody>\n",
       "    <tr>\n",
       "      <th>31</th>\n",
       "      <td>68416059</td>\n",
       "      <td>631</td>\n",
       "      <td>5</td>\n",
       "      <td>68416059</td>\n",
       "      <td>68416059</td>\n",
       "      <td>FINISHED</td>\n",
       "      <td>163.3</td>\n",
       "      <td>11.9</td>\n",
       "      <td>3.72</td>\n",
       "      <td>14</td>\n",
       "      <td>...</td>\n",
       "      <td>1/1/2021 3:13:46 PM</td>\n",
       "      <td>NaN</td>\n",
       "      <td>1/1/2021 3:32:28 PM</td>\n",
       "      <td>5.75</td>\n",
       "      <td>1.02</td>\n",
       "      <td>28.77</td>\n",
       "      <td>5.78</td>\n",
       "      <td>6.80</td>\n",
       "      <td>18.72</td>\n",
       "      <td>54.28</td>\n",
       "    </tr>\n",
       "    <tr>\n",
       "      <th>75</th>\n",
       "      <td>68422281</td>\n",
       "      <td>632</td>\n",
       "      <td>5</td>\n",
       "      <td>68422281</td>\n",
       "      <td>68422281</td>\n",
       "      <td>FINISHED</td>\n",
       "      <td>129.7</td>\n",
       "      <td>11.9</td>\n",
       "      <td>6.00</td>\n",
       "      <td>15</td>\n",
       "      <td>...</td>\n",
       "      <td>1/1/2021 4:28:45 PM</td>\n",
       "      <td>NaN</td>\n",
       "      <td>1/1/2021 5:20:43 PM</td>\n",
       "      <td>1.37</td>\n",
       "      <td>45.23</td>\n",
       "      <td>20.62</td>\n",
       "      <td>1.37</td>\n",
       "      <td>46.62</td>\n",
       "      <td>51.97</td>\n",
       "      <td>119.20</td>\n",
       "    </tr>\n",
       "    <tr>\n",
       "      <th>86</th>\n",
       "      <td>68424216</td>\n",
       "      <td>3091</td>\n",
       "      <td>5</td>\n",
       "      <td>68424216</td>\n",
       "      <td>68424216</td>\n",
       "      <td>FINISHED</td>\n",
       "      <td>45.7</td>\n",
       "      <td>0.0</td>\n",
       "      <td>3.49</td>\n",
       "      <td>15</td>\n",
       "      <td>...</td>\n",
       "      <td>1/1/2021 4:45:16 PM</td>\n",
       "      <td>NaN</td>\n",
       "      <td>1/1/2021 5:29:52 PM</td>\n",
       "      <td>0.62</td>\n",
       "      <td>40.02</td>\n",
       "      <td>37.00</td>\n",
       "      <td>0.65</td>\n",
       "      <td>40.65</td>\n",
       "      <td>44.60</td>\n",
       "      <td>122.25</td>\n",
       "    </tr>\n",
       "    <tr>\n",
       "      <th>89</th>\n",
       "      <td>68424547</td>\n",
       "      <td>495</td>\n",
       "      <td>5</td>\n",
       "      <td>68424547</td>\n",
       "      <td>68424547</td>\n",
       "      <td>FINISHED</td>\n",
       "      <td>184.6</td>\n",
       "      <td>11.9</td>\n",
       "      <td>3.84</td>\n",
       "      <td>15</td>\n",
       "      <td>...</td>\n",
       "      <td>1/1/2021 4:13:52 PM</td>\n",
       "      <td>NaN</td>\n",
       "      <td>1/1/2021 4:30:25 PM</td>\n",
       "      <td>2.43</td>\n",
       "      <td>23.30</td>\n",
       "      <td>18.98</td>\n",
       "      <td>2.53</td>\n",
       "      <td>25.83</td>\n",
       "      <td>16.55</td>\n",
       "      <td>61.37</td>\n",
       "    </tr>\n",
       "    <tr>\n",
       "      <th>93</th>\n",
       "      <td>68424858</td>\n",
       "      <td>631</td>\n",
       "      <td>5</td>\n",
       "      <td>68424858</td>\n",
       "      <td>68424858</td>\n",
       "      <td>FINISHED</td>\n",
       "      <td>160.7</td>\n",
       "      <td>11.9</td>\n",
       "      <td>6.12</td>\n",
       "      <td>15</td>\n",
       "      <td>...</td>\n",
       "      <td>1/1/2021 4:19:39 PM</td>\n",
       "      <td>NaN</td>\n",
       "      <td>1/1/2021 4:36:48 PM</td>\n",
       "      <td>2.70</td>\n",
       "      <td>9.10</td>\n",
       "      <td>36.63</td>\n",
       "      <td>2.72</td>\n",
       "      <td>11.82</td>\n",
       "      <td>17.15</td>\n",
       "      <td>65.60</td>\n",
       "    </tr>\n",
       "    <tr>\n",
       "      <th>...</th>\n",
       "      <td>...</td>\n",
       "      <td>...</td>\n",
       "      <td>...</td>\n",
       "      <td>...</td>\n",
       "      <td>...</td>\n",
       "      <td>...</td>\n",
       "      <td>...</td>\n",
       "      <td>...</td>\n",
       "      <td>...</td>\n",
       "      <td>...</td>\n",
       "      <td>...</td>\n",
       "      <td>...</td>\n",
       "      <td>...</td>\n",
       "      <td>...</td>\n",
       "      <td>...</td>\n",
       "      <td>...</td>\n",
       "      <td>...</td>\n",
       "      <td>...</td>\n",
       "      <td>...</td>\n",
       "      <td>...</td>\n",
       "      <td>...</td>\n",
       "    </tr>\n",
       "    <tr>\n",
       "      <th>368859</th>\n",
       "      <td>93139280</td>\n",
       "      <td>1037</td>\n",
       "      <td>5</td>\n",
       "      <td>93139280</td>\n",
       "      <td>93139280</td>\n",
       "      <td>FINISHED</td>\n",
       "      <td>145.8</td>\n",
       "      <td>11.9</td>\n",
       "      <td>30.21</td>\n",
       "      <td>23</td>\n",
       "      <td>...</td>\n",
       "      <td>5/1/2021 12:18:17 AM</td>\n",
       "      <td>NaN</td>\n",
       "      <td>5/1/2021 12:38:03 AM</td>\n",
       "      <td>0.23</td>\n",
       "      <td>6.12</td>\n",
       "      <td>23.53</td>\n",
       "      <td>4.57</td>\n",
       "      <td>10.70</td>\n",
       "      <td>19.75</td>\n",
       "      <td>53.98</td>\n",
       "    </tr>\n",
       "    <tr>\n",
       "      <th>368923</th>\n",
       "      <td>93139564</td>\n",
       "      <td>1009</td>\n",
       "      <td>10</td>\n",
       "      <td>93139564</td>\n",
       "      <td>93139564</td>\n",
       "      <td>FINISHED</td>\n",
       "      <td>76.0</td>\n",
       "      <td>11.9</td>\n",
       "      <td>NaN</td>\n",
       "      <td>23</td>\n",
       "      <td>...</td>\n",
       "      <td>5/1/2021 12:34:09 AM</td>\n",
       "      <td>NaN</td>\n",
       "      <td>5/1/2021 12:34:18 AM</td>\n",
       "      <td>1.17</td>\n",
       "      <td>22.37</td>\n",
       "      <td>15.10</td>\n",
       "      <td>6.78</td>\n",
       "      <td>29.15</td>\n",
       "      <td>0.15</td>\n",
       "      <td>44.40</td>\n",
       "    </tr>\n",
       "    <tr>\n",
       "      <th>368945</th>\n",
       "      <td>93139644</td>\n",
       "      <td>1009</td>\n",
       "      <td>10</td>\n",
       "      <td>93139644</td>\n",
       "      <td>93139644</td>\n",
       "      <td>FINISHED</td>\n",
       "      <td>101.0</td>\n",
       "      <td>11.9</td>\n",
       "      <td>NaN</td>\n",
       "      <td>23</td>\n",
       "      <td>...</td>\n",
       "      <td>5/1/2021 12:14:38 AM</td>\n",
       "      <td>NaN</td>\n",
       "      <td>5/1/2021 12:39:22 AM</td>\n",
       "      <td>0.13</td>\n",
       "      <td>2.90</td>\n",
       "      <td>15.02</td>\n",
       "      <td>3.53</td>\n",
       "      <td>6.43</td>\n",
       "      <td>24.73</td>\n",
       "      <td>46.18</td>\n",
       "    </tr>\n",
       "    <tr>\n",
       "      <th>368974</th>\n",
       "      <td>93139740</td>\n",
       "      <td>1037</td>\n",
       "      <td>5</td>\n",
       "      <td>93139740</td>\n",
       "      <td>93139740</td>\n",
       "      <td>FINISHED</td>\n",
       "      <td>151.8</td>\n",
       "      <td>11.9</td>\n",
       "      <td>16.06</td>\n",
       "      <td>23</td>\n",
       "      <td>...</td>\n",
       "      <td>5/1/2021 12:31:53 AM</td>\n",
       "      <td>NaN</td>\n",
       "      <td>5/1/2021 12:53:51 AM</td>\n",
       "      <td>2.17</td>\n",
       "      <td>5.95</td>\n",
       "      <td>24.45</td>\n",
       "      <td>4.02</td>\n",
       "      <td>9.97</td>\n",
       "      <td>21.97</td>\n",
       "      <td>56.38</td>\n",
       "    </tr>\n",
       "    <tr>\n",
       "      <th>368982</th>\n",
       "      <td>93139776</td>\n",
       "      <td>415</td>\n",
       "      <td>5</td>\n",
       "      <td>93139776</td>\n",
       "      <td>93139776</td>\n",
       "      <td>FINISHED</td>\n",
       "      <td>70.4</td>\n",
       "      <td>11.9</td>\n",
       "      <td>13.88</td>\n",
       "      <td>23</td>\n",
       "      <td>...</td>\n",
       "      <td>5/1/2021 12:21:31 AM</td>\n",
       "      <td>NaN</td>\n",
       "      <td>5/1/2021 12:45:35 AM</td>\n",
       "      <td>NaN</td>\n",
       "      <td>NaN</td>\n",
       "      <td>14.88</td>\n",
       "      <td>NaN</td>\n",
       "      <td>7.83</td>\n",
       "      <td>24.07</td>\n",
       "      <td>46.78</td>\n",
       "    </tr>\n",
       "  </tbody>\n",
       "</table>\n",
       "<p>18724 rows × 29 columns</p>\n",
       "</div>"
      ],
      "text/plain": [
       "        order_id  store_id  channel_id  payment_order_id delivery_order_id  \\\n",
       "31      68416059       631           5          68416059          68416059   \n",
       "75      68422281       632           5          68422281          68422281   \n",
       "86      68424216      3091           5          68424216          68424216   \n",
       "89      68424547       495           5          68424547          68424547   \n",
       "93      68424858       631           5          68424858          68424858   \n",
       "...          ...       ...         ...               ...               ...   \n",
       "368859  93139280      1037           5          93139280          93139280   \n",
       "368923  93139564      1009          10          93139564          93139564   \n",
       "368945  93139644      1009          10          93139644          93139644   \n",
       "368974  93139740      1037           5          93139740          93139740   \n",
       "368982  93139776       415           5          93139776          93139776   \n",
       "\n",
       "       order_status  order_amount  order_delivery_fee  order_delivery_cost  \\\n",
       "31         FINISHED         163.3                11.9                 3.72   \n",
       "75         FINISHED         129.7                11.9                 6.00   \n",
       "86         FINISHED          45.7                 0.0                 3.49   \n",
       "89         FINISHED         184.6                11.9                 3.84   \n",
       "93         FINISHED         160.7                11.9                 6.12   \n",
       "...             ...           ...                 ...                  ...   \n",
       "368859     FINISHED         145.8                11.9                30.21   \n",
       "368923     FINISHED          76.0                11.9                  NaN   \n",
       "368945     FINISHED         101.0                11.9                  NaN   \n",
       "368974     FINISHED         151.8                11.9                16.06   \n",
       "368982     FINISHED          70.4                11.9                13.88   \n",
       "\n",
       "        order_created_hour  ...  order_moment_delivering  \\\n",
       "31                      14  ...      1/1/2021 3:13:46 PM   \n",
       "75                      15  ...      1/1/2021 4:28:45 PM   \n",
       "86                      15  ...      1/1/2021 4:45:16 PM   \n",
       "89                      15  ...      1/1/2021 4:13:52 PM   \n",
       "93                      15  ...      1/1/2021 4:19:39 PM   \n",
       "...                    ...  ...                      ...   \n",
       "368859                  23  ...     5/1/2021 12:18:17 AM   \n",
       "368923                  23  ...     5/1/2021 12:34:09 AM   \n",
       "368945                  23  ...     5/1/2021 12:14:38 AM   \n",
       "368974                  23  ...     5/1/2021 12:31:53 AM   \n",
       "368982                  23  ...     5/1/2021 12:21:31 AM   \n",
       "\n",
       "        order_moment_delivered  order_moment_finished  \\\n",
       "31                         NaN    1/1/2021 3:32:28 PM   \n",
       "75                         NaN    1/1/2021 5:20:43 PM   \n",
       "86                         NaN    1/1/2021 5:29:52 PM   \n",
       "89                         NaN    1/1/2021 4:30:25 PM   \n",
       "93                         NaN    1/1/2021 4:36:48 PM   \n",
       "...                        ...                    ...   \n",
       "368859                     NaN   5/1/2021 12:38:03 AM   \n",
       "368923                     NaN   5/1/2021 12:34:18 AM   \n",
       "368945                     NaN   5/1/2021 12:39:22 AM   \n",
       "368974                     NaN   5/1/2021 12:53:51 AM   \n",
       "368982                     NaN   5/1/2021 12:45:35 AM   \n",
       "\n",
       "        order_metric_collected_time order_metric_paused_time  \\\n",
       "31                             5.75                     1.02   \n",
       "75                             1.37                    45.23   \n",
       "86                             0.62                    40.02   \n",
       "89                             2.43                    23.30   \n",
       "93                             2.70                     9.10   \n",
       "...                             ...                      ...   \n",
       "368859                         0.23                     6.12   \n",
       "368923                         1.17                    22.37   \n",
       "368945                         0.13                     2.90   \n",
       "368974                         2.17                     5.95   \n",
       "368982                          NaN                      NaN   \n",
       "\n",
       "       order_metric_production_time order_metric_walking_time  \\\n",
       "31                            28.77                      5.78   \n",
       "75                            20.62                      1.37   \n",
       "86                            37.00                      0.65   \n",
       "89                            18.98                      2.53   \n",
       "93                            36.63                      2.72   \n",
       "...                             ...                       ...   \n",
       "368859                        23.53                      4.57   \n",
       "368923                        15.10                      6.78   \n",
       "368945                        15.02                      3.53   \n",
       "368974                        24.45                      4.02   \n",
       "368982                        14.88                       NaN   \n",
       "\n",
       "       order_metric_expediton_speed_time order_metric_transit_time  \\\n",
       "31                                  6.80                     18.72   \n",
       "75                                 46.62                     51.97   \n",
       "86                                 40.65                     44.60   \n",
       "89                                 25.83                     16.55   \n",
       "93                                 11.82                     17.15   \n",
       "...                                  ...                       ...   \n",
       "368859                             10.70                     19.75   \n",
       "368923                             29.15                      0.15   \n",
       "368945                              6.43                     24.73   \n",
       "368974                              9.97                     21.97   \n",
       "368982                              7.83                     24.07   \n",
       "\n",
       "       order_metric_cycle_time  \n",
       "31                       54.28  \n",
       "75                      119.20  \n",
       "86                      122.25  \n",
       "89                       61.37  \n",
       "93                       65.60  \n",
       "...                        ...  \n",
       "368859                   53.98  \n",
       "368923                   44.40  \n",
       "368945                   46.18  \n",
       "368974                   56.38  \n",
       "368982                   46.78  \n",
       "\n",
       "[18724 rows x 29 columns]"
      ]
     },
     "execution_count": 14,
     "metadata": {},
     "output_type": "execute_result"
    }
   ],
   "source": [
    "order_data.loc[order_data.delivery_order_id.isin(delivery_order_filter)].sort_values(by='delivery_order_id')"
   ]
  },
  {
   "cell_type": "markdown",
   "id": "965e2607-d798-460d-8384-4029d2fd65f5",
   "metadata": {},
   "source": [
    "There is no duplication in the order_data table. We cannot identify why this duplication is occurring in the delivery table.\n",
    "\n",
    "Since we do not understand the duplication, we will keep the duplicated data for now, but we will notify the Data Engineering (DE) team.\n",
    "\n",
    "Because the delivery table does not contain the driver mode, we will perform a join with the driver table to retrieve it. Afterward, we can proceed with the requested analysis."
   ]
  },
  {
   "cell_type": "code",
   "execution_count": 15,
   "id": "a93396ba-44eb-4c4b-b93e-537cb916b89a",
   "metadata": {},
   "outputs": [],
   "source": [
    "drive_data=pd.read_csv(r'datasets/drivers.csv')"
   ]
  },
  {
   "cell_type": "code",
   "execution_count": 16,
   "id": "b2978301-8c5c-4277-a52c-0e21fe51c86e",
   "metadata": {},
   "outputs": [
    {
     "name": "stdout",
     "output_type": "stream",
     "text": [
      "<class 'pandas.core.frame.DataFrame'>\n",
      "RangeIndex: 4824 entries, 0 to 4823\n",
      "Data columns (total 3 columns):\n",
      " #   Column        Non-Null Count  Dtype \n",
      "---  ------        --------------  ----- \n",
      " 0   driver_id     4824 non-null   int64 \n",
      " 1   driver_modal  4824 non-null   object\n",
      " 2   driver_type   4824 non-null   object\n",
      "dtypes: int64(1), object(2)\n",
      "memory usage: 113.2+ KB\n",
      "None       variables null_percentage\n",
      "0     driver_id             0.0\n",
      "1  driver_modal             0.0\n",
      "2   driver_type             0.0\n"
     ]
    }
   ],
   "source": [
    "first_view(drive_data)"
   ]
  },
  {
   "cell_type": "code",
   "execution_count": 17,
   "id": "4d039e48-b0a0-4ae4-ad22-85ef6b69d636",
   "metadata": {},
   "outputs": [
    {
     "data": {
      "text/html": [
       "<div>\n",
       "<style scoped>\n",
       "    .dataframe tbody tr th:only-of-type {\n",
       "        vertical-align: middle;\n",
       "    }\n",
       "\n",
       "    .dataframe tbody tr th {\n",
       "        vertical-align: top;\n",
       "    }\n",
       "\n",
       "    .dataframe thead th {\n",
       "        text-align: right;\n",
       "    }\n",
       "</style>\n",
       "<table border=\"1\" class=\"dataframe\">\n",
       "  <thead>\n",
       "    <tr style=\"text-align: right;\">\n",
       "      <th></th>\n",
       "      <th>driver_id</th>\n",
       "      <th>driver_modal</th>\n",
       "      <th>driver_type</th>\n",
       "    </tr>\n",
       "  </thead>\n",
       "  <tbody>\n",
       "    <tr>\n",
       "      <th>0</th>\n",
       "      <td>133</td>\n",
       "      <td>MOTOBOY</td>\n",
       "      <td>LOGISTIC OPERATOR</td>\n",
       "    </tr>\n",
       "    <tr>\n",
       "      <th>1</th>\n",
       "      <td>138</td>\n",
       "      <td>MOTOBOY</td>\n",
       "      <td>FREELANCE</td>\n",
       "    </tr>\n",
       "    <tr>\n",
       "      <th>2</th>\n",
       "      <td>140</td>\n",
       "      <td>MOTOBOY</td>\n",
       "      <td>FREELANCE</td>\n",
       "    </tr>\n",
       "    <tr>\n",
       "      <th>3</th>\n",
       "      <td>143</td>\n",
       "      <td>BIKER</td>\n",
       "      <td>FREELANCE</td>\n",
       "    </tr>\n",
       "    <tr>\n",
       "      <th>4</th>\n",
       "      <td>148</td>\n",
       "      <td>MOTOBOY</td>\n",
       "      <td>FREELANCE</td>\n",
       "    </tr>\n",
       "  </tbody>\n",
       "</table>\n",
       "</div>"
      ],
      "text/plain": [
       "   driver_id driver_modal        driver_type\n",
       "0        133      MOTOBOY  LOGISTIC OPERATOR\n",
       "1        138      MOTOBOY          FREELANCE\n",
       "2        140      MOTOBOY          FREELANCE\n",
       "3        143        BIKER          FREELANCE\n",
       "4        148      MOTOBOY          FREELANCE"
      ]
     },
     "execution_count": 17,
     "metadata": {},
     "output_type": "execute_result"
    }
   ],
   "source": [
    "drive_data.head()"
   ]
  },
  {
   "cell_type": "code",
   "execution_count": 18,
   "id": "a5346084-3c2b-43f9-940e-3e9143155384",
   "metadata": {},
   "outputs": [],
   "source": [
    "drive_data['driver_id']=drive_data['driver_id'].astype('str')"
   ]
  },
  {
   "cell_type": "code",
   "execution_count": 19,
   "id": "1f3947a9-434b-4e83-8645-f10724370b60",
   "metadata": {},
   "outputs": [
    {
     "data": {
      "text/plain": [
       "0         133\n",
       "1         138\n",
       "2         140\n",
       "3         143\n",
       "4         148\n",
       "        ...  \n",
       "4819    66260\n",
       "4820    66271\n",
       "4821    66457\n",
       "4822    66459\n",
       "4823    66494\n",
       "Length: 4824, dtype: object"
      ]
     },
     "execution_count": 19,
     "metadata": {},
     "output_type": "execute_result"
    }
   ],
   "source": [
    "pd.Series(drive_data['driver_id'].unique())"
   ]
  },
  {
   "cell_type": "code",
   "execution_count": 20,
   "id": "229e2b3e-092d-4e1e-906e-e33a05da9f2d",
   "metadata": {},
   "outputs": [
    {
     "name": "stdout",
     "output_type": "stream",
     "text": [
      "4824 4584\n"
     ]
    }
   ],
   "source": [
    "drivers_list=pd.Series(drive_data['driver_id'].unique())\n",
    "drivers_deliveried=pd.Series(delivery_data['driver_id'].unique())\n",
    "print(len(drivers_list), len(drivers_deliveried))"
   ]
  },
  {
   "cell_type": "code",
   "execution_count": 21,
   "id": "2e75ee86-d968-4230-a3eb-2fcfdae50bb0",
   "metadata": {},
   "outputs": [
    {
     "data": {
      "text/plain": [
       "True     4583\n",
       "False     241\n",
       "Name: count, dtype: int64"
      ]
     },
     "execution_count": 21,
     "metadata": {},
     "output_type": "execute_result"
    }
   ],
   "source": [
    "#checking how much drivers registered in the delivery \n",
    "drivers_list.isin(drivers_deliveried).value_counts()"
   ]
  },
  {
   "cell_type": "code",
   "execution_count": 22,
   "id": "4550a492-38cf-482b-ac02-81a9b9f04cdf",
   "metadata": {},
   "outputs": [
    {
     "data": {
      "text/plain": [
       "378843"
      ]
     },
     "execution_count": 22,
     "metadata": {},
     "output_type": "execute_result"
    }
   ],
   "source": [
    "#total or rows in the delivery_data\n",
    "delivery_data.shape[0]"
   ]
  },
  {
   "cell_type": "code",
   "execution_count": 23,
   "id": "2c87b9fe-1dfd-48fe-9d5c-ca30abb000cd",
   "metadata": {},
   "outputs": [],
   "source": [
    "#join datases\n",
    "data=delivery_data.merge(drive_data, on='driver_id', how='left')"
   ]
  },
  {
   "cell_type": "code",
   "execution_count": 24,
   "id": "e09c3949-cbf4-41a0-97c7-bf59c186ecc1",
   "metadata": {},
   "outputs": [
    {
     "name": "stdout",
     "output_type": "stream",
     "text": [
      "<class 'pandas.core.frame.DataFrame'>\n",
      "RangeIndex: 378843 entries, 0 to 378842\n",
      "Data columns (total 7 columns):\n",
      " #   Column                    Non-Null Count   Dtype  \n",
      "---  ------                    --------------   -----  \n",
      " 0   delivery_id               378843 non-null  string \n",
      " 1   delivery_order_id         378843 non-null  string \n",
      " 2   driver_id                 362957 non-null  object \n",
      " 3   delivery_distance_meters  378770 non-null  float64\n",
      " 4   delivery_status           378843 non-null  object \n",
      " 5   driver_modal              362957 non-null  object \n",
      " 6   driver_type               362957 non-null  object \n",
      "dtypes: float64(1), object(4), string(2)\n",
      "memory usage: 20.2+ MB\n",
      "None                   variables null_percentage\n",
      "0               delivery_id        0.000000\n",
      "1         delivery_order_id        0.000000\n",
      "2                 driver_id        4.193294\n",
      "3  delivery_distance_meters        0.019269\n",
      "4           delivery_status        0.000000\n",
      "5              driver_modal        4.193294\n",
      "6               driver_type        4.193294\n"
     ]
    }
   ],
   "source": [
    "first_view(data)"
   ]
  },
  {
   "cell_type": "markdown",
   "id": "fd65040d-2675-4216-a17a-9672862faf9d",
   "metadata": {},
   "source": [
    "We noticed that 4% of the deliveries are missing driver_id information. Since we want to award a bonus, we will remove the rows where the driver_id is not recorded.\n"
   ]
  },
  {
   "cell_type": "code",
   "execution_count": 25,
   "id": "c72fdf7e-a6db-49e7-819f-82e93591da4f",
   "metadata": {},
   "outputs": [],
   "source": [
    "#filtering not nul values\n",
    "data=data.loc[~data['driver_id'].isnull()]"
   ]
  },
  {
   "cell_type": "code",
   "execution_count": 26,
   "id": "3fed4fb1-3d9d-45f4-8501-fad50faab28a",
   "metadata": {},
   "outputs": [],
   "source": [
    "#create a new column named modal_type \n",
    "data['modal_type']=data.driver_modal+' '+data.driver_type"
   ]
  },
  {
   "cell_type": "code",
   "execution_count": 27,
   "id": "56d47124-9b5e-4b3b-9f1d-6b57e8431a83",
   "metadata": {},
   "outputs": [],
   "source": [
    "#calculate how much drive distance in meters each driver drived\n",
    "total_km_data=data.groupby(['modal_type',\n",
    "      'driver_id'])['delivery_distance_meters'].sum().reset_index().sort_values(by=[\n",
    "        'modal_type'], ascending=False)"
   ]
  },
  {
   "cell_type": "code",
   "execution_count": 28,
   "id": "db96a86f-7559-49a4-be25-16484152ebdc",
   "metadata": {},
   "outputs": [],
   "source": [
    "#create a new column with quilometers values\n",
    "total_km_data['delivery_distance_km']=np.round(total_km_data['delivery_distance_meters']/1000,2)"
   ]
  },
  {
   "cell_type": "code",
   "execution_count": 37,
   "id": "f56ce4e4-6a1e-4f8a-b5a8-382a7855ad59",
   "metadata": {},
   "outputs": [],
   "source": [
    "#spliting data\n",
    "modal_type_list=list(total_km_data.modal_type.unique())\n",
    "ranking_km_data=pd.DataFrame()\n",
    "\n",
    "for mt in modal_type_list:\n",
    "        df=total_km_data.loc[total_km_data['modal_type']==mt].sort_values(by='delivery_distance_km',ascending=False)[0:20]\n",
    "        ranking_km_data=pd.concat([ranking_km_data,df])"
   ]
  },
  {
   "cell_type": "code",
   "execution_count": 38,
   "id": "2f760a7c-0618-43e4-b406-4a4862e71f0d",
   "metadata": {},
   "outputs": [
    {
     "data": {
      "text/html": [
       "<div>\n",
       "<style scoped>\n",
       "    .dataframe tbody tr th:only-of-type {\n",
       "        vertical-align: middle;\n",
       "    }\n",
       "\n",
       "    .dataframe tbody tr th {\n",
       "        vertical-align: top;\n",
       "    }\n",
       "\n",
       "    .dataframe thead th {\n",
       "        text-align: right;\n",
       "    }\n",
       "</style>\n",
       "<table border=\"1\" class=\"dataframe\">\n",
       "  <thead>\n",
       "    <tr style=\"text-align: right;\">\n",
       "      <th></th>\n",
       "      <th>modal_type</th>\n",
       "      <th>driver_id</th>\n",
       "      <th>delivery_distance_meters</th>\n",
       "      <th>delivery_distance_km</th>\n",
       "    </tr>\n",
       "  </thead>\n",
       "  <tbody>\n",
       "    <tr>\n",
       "      <th>3843</th>\n",
       "      <td>MOTOBOY LOGISTIC OPERATOR</td>\n",
       "      <td>26223</td>\n",
       "      <td>60504610.0</td>\n",
       "      <td>60504.61</td>\n",
       "    </tr>\n",
       "    <tr>\n",
       "      <th>3834</th>\n",
       "      <td>MOTOBOY LOGISTIC OPERATOR</td>\n",
       "      <td>25651</td>\n",
       "      <td>32466086.0</td>\n",
       "      <td>32466.09</td>\n",
       "    </tr>\n",
       "    <tr>\n",
       "      <th>3751</th>\n",
       "      <td>MOTOBOY LOGISTIC OPERATOR</td>\n",
       "      <td>15898</td>\n",
       "      <td>8209339.0</td>\n",
       "      <td>8209.34</td>\n",
       "    </tr>\n",
       "    <tr>\n",
       "      <th>4179</th>\n",
       "      <td>MOTOBOY LOGISTIC OPERATOR</td>\n",
       "      <td>464</td>\n",
       "      <td>4247737.0</td>\n",
       "      <td>4247.74</td>\n",
       "    </tr>\n",
       "    <tr>\n",
       "      <th>4559</th>\n",
       "      <td>MOTOBOY LOGISTIC OPERATOR</td>\n",
       "      <td>7615</td>\n",
       "      <td>3280119.0</td>\n",
       "      <td>3280.12</td>\n",
       "    </tr>\n",
       "    <tr>\n",
       "      <th>...</th>\n",
       "      <td>...</td>\n",
       "      <td>...</td>\n",
       "      <td>...</td>\n",
       "      <td>...</td>\n",
       "    </tr>\n",
       "    <tr>\n",
       "      <th>232</th>\n",
       "      <td>BIKER FREELANCE</td>\n",
       "      <td>18748</td>\n",
       "      <td>563505.0</td>\n",
       "      <td>563.50</td>\n",
       "    </tr>\n",
       "    <tr>\n",
       "      <th>141</th>\n",
       "      <td>BIKER FREELANCE</td>\n",
       "      <td>15279</td>\n",
       "      <td>549570.0</td>\n",
       "      <td>549.57</td>\n",
       "    </tr>\n",
       "    <tr>\n",
       "      <th>661</th>\n",
       "      <td>BIKER FREELANCE</td>\n",
       "      <td>34079</td>\n",
       "      <td>543098.0</td>\n",
       "      <td>543.10</td>\n",
       "    </tr>\n",
       "    <tr>\n",
       "      <th>1515</th>\n",
       "      <td>BIKER FREELANCE</td>\n",
       "      <td>8592</td>\n",
       "      <td>522515.0</td>\n",
       "      <td>522.52</td>\n",
       "    </tr>\n",
       "    <tr>\n",
       "      <th>1228</th>\n",
       "      <td>BIKER FREELANCE</td>\n",
       "      <td>5364</td>\n",
       "      <td>521550.0</td>\n",
       "      <td>521.55</td>\n",
       "    </tr>\n",
       "  </tbody>\n",
       "</table>\n",
       "<p>61 rows × 4 columns</p>\n",
       "</div>"
      ],
      "text/plain": [
       "                     modal_type driver_id  delivery_distance_meters  \\\n",
       "3843  MOTOBOY LOGISTIC OPERATOR     26223                60504610.0   \n",
       "3834  MOTOBOY LOGISTIC OPERATOR     25651                32466086.0   \n",
       "3751  MOTOBOY LOGISTIC OPERATOR     15898                 8209339.0   \n",
       "4179  MOTOBOY LOGISTIC OPERATOR       464                 4247737.0   \n",
       "4559  MOTOBOY LOGISTIC OPERATOR      7615                 3280119.0   \n",
       "...                         ...       ...                       ...   \n",
       "232             BIKER FREELANCE     18748                  563505.0   \n",
       "141             BIKER FREELANCE     15279                  549570.0   \n",
       "661             BIKER FREELANCE     34079                  543098.0   \n",
       "1515            BIKER FREELANCE      8592                  522515.0   \n",
       "1228            BIKER FREELANCE      5364                  521550.0   \n",
       "\n",
       "      delivery_distance_km  \n",
       "3843              60504.61  \n",
       "3834              32466.09  \n",
       "3751               8209.34  \n",
       "4179               4247.74  \n",
       "4559               3280.12  \n",
       "...                    ...  \n",
       "232                 563.50  \n",
       "141                 549.57  \n",
       "661                 543.10  \n",
       "1515                522.52  \n",
       "1228                521.55  \n",
       "\n",
       "[61 rows x 4 columns]"
      ]
     },
     "execution_count": 38,
     "metadata": {},
     "output_type": "execute_result"
    }
   ],
   "source": [
    "ranking_km_data"
   ]
  },
  {
   "cell_type": "code",
   "execution_count": 39,
   "id": "815cafdc-9b14-4560-8f24-db4b4563c7c2",
   "metadata": {},
   "outputs": [
    {
     "data": {
      "text/plain": [
       "modal_type\n",
       "MOTOBOY LOGISTIC OPERATOR    20\n",
       "MOTOBOY FREELANCE            20\n",
       "BIKER FREELANCE              20\n",
       "BIKER LOGISTIC OPERATOR       1\n",
       "Name: count, dtype: int64"
      ]
     },
     "execution_count": 39,
     "metadata": {},
     "output_type": "execute_result"
    }
   ],
   "source": [
    "#checking result\n",
    "ranking_km_data['modal_type'].value_counts()"
   ]
  },
  {
   "cell_type": "markdown",
   "id": "da5e1f6c-be27-42bb-9f3e-0748d7db303b",
   "metadata": {},
   "source": [
    "### Ploting ###"
   ]
  },
  {
   "cell_type": "code",
   "execution_count": 40,
   "id": "4ebb12ec-b293-4c83-9ae1-a20b75b927a4",
   "metadata": {},
   "outputs": [
    {
     "data": {
      "image/png": "[encoded data removed]",
      "text/plain": [
       "<Figure size 1000x1000 with 2 Axes>"
      ]
     },
     "metadata": {},
     "output_type": "display_data"
    },
    {
     "data": {
      "text/plain": [
       "<Figure size 640x700 with 0 Axes>"
      ]
     },
     "metadata": {},
     "output_type": "display_data"
    }
   ],
   "source": [
    "fig, axes = plt.subplots(nrows=2, figsize=(10, 10)) \n",
    "fig.suptitle(\"Ranking Motociclistas\") \n",
    "ax1=sns.barplot(data=ranking_km_data.loc[ranking_km_data['modal_type']==modal_type_list[0]][0:20],\n",
    "                x='delivery_distance_km',\n",
    "                y='driver_id',ax=axes[0],\n",
    "               color='gray')\n",
    "ax1.set_ylabel('motoristas')\n",
    "ax1.set_xlabel(\"distância em KM\")\n",
    "axes[0].set_title(\"Operador Logístico\") \n",
    "\n",
    "ax2=sns.barplot(data=ranking_km_data.loc[ranking_km_data['modal_type']==modal_type_list[1]][0:20], \n",
    "                x='delivery_distance_km',\n",
    "                y='driver_id',\n",
    "                ax=axes[1],\n",
    "               color='olive')\n",
    "ax2.set_ylabel('motoristas')\n",
    "ax2.set_xlabel(\"distância em KM\")\n",
    "axes[1].set_title(\"Freelance\") \n",
    "plt.tight_layout(rect=[0, 0.03, 1, 1])\n",
    "sns.despine()\n",
    "plt.figure(figsize=[6.4,7]);"
   ]
  },
  {
   "cell_type": "code",
   "execution_count": 41,
   "id": "cf5f3cb1-2b68-4cdc-a57e-77b761fad1c3",
   "metadata": {},
   "outputs": [
    {
     "data": {
      "image/png": "[encoded data removed]",
      "text/plain": [
       "<Figure size 1000x1000 with 2 Axes>"
      ]
     },
     "metadata": {},
     "output_type": "display_data"
    },
    {
     "data": {
      "text/plain": [
       "<Figure size 640x700 with 0 Axes>"
      ]
     },
     "metadata": {},
     "output_type": "display_data"
    }
   ],
   "source": [
    "fig, axes = plt.subplots(nrows=2, figsize=(10, 10)) \n",
    "fig.suptitle(\"Ranking Ciclistas\") \n",
    "ax1=sns.barplot(data=ranking_km_data.loc[ranking_km_data['modal_type']==modal_type_list[2]][0:20],\n",
    "                x='delivery_distance_km',\n",
    "                y='driver_id',ax=axes[0],\n",
    "               color='gray',\n",
    "               width=0.09)\n",
    "ax1.set_ylabel('ciclistas')\n",
    "ax1.set_xlabel(\"distância em KM\")\n",
    "axes[0].set_title(\"Operador Logístico\") \n",
    "\n",
    "ax2=sns.barplot(data=ranking_km_data.loc[ranking_km_data['modal_type']==modal_type_list[3]][0:20], \n",
    "                x='delivery_distance_km',\n",
    "                y='driver_id',\n",
    "                ax=axes[1],\n",
    "               color='olive')\n",
    "ax2.set_ylabel('ciclistas')\n",
    "ax2.set_xlabel(\"distância em KM\")\n",
    "axes[1].set_title(\"Freelance\") \n",
    "plt.tight_layout(rect=[0, 0.03, 1, 1])\n",
    "sns.despine()\n",
    "plt.figure(figsize=[6.4,7]);"
   ]
  },
  {
   "cell_type": "code",
   "execution_count": null,
   "id": "c43d8b2b-7bc1-411a-af8e-1cf70710332e",
   "metadata": {},
   "outputs": [],
   "source": []
  },
  {
   "cell_type": "code",
   "execution_count": null,
   "id": "a115ed22-cc01-45aa-8023-f08842ce9628",
   "metadata": {},
   "outputs": [],
   "source": []
  }
 ],
 "metadata": {
  "kernelspec": {
   "display_name": "Python 3 (ipykernel)",
   "language": "python",
   "name": "python3"
  },
  "language_info": {
   "codemirror_mode": {
    "name": "ipython",
    "version": 3
   },
   "file_extension": ".py",
   "mimetype": "text/x-python",
   "name": "python",
   "nbconvert_exporter": "python",
   "pygments_lexer": "ipython3",
   "version": "3.12.8"
  }
 },
 "nbformat": 4,
 "nbformat_minor": 5
}
